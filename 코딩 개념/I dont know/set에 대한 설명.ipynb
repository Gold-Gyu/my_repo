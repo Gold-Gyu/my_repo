{
 "cells": [
  {
   "attachments": {},
   "cell_type": "markdown",
   "metadata": {},
   "source": [
    "# set\n",
    "\n",
    "- 수학에서 집합\n",
    "- 중복을 허용하지 않음\n",
    "- set에서 list로 변환 가능, list에서 set로 바꾸면 중복이 뜰 수 있음\n",
    "- 비시퀀스형이므로 순서가 없다. 어떻게 넣든 순서를 기억하지 못함.\n",
    "\n"
   ]
  }
 ],
 "metadata": {
  "language_info": {
   "name": "python"
  },
  "orig_nbformat": 4
 },
 "nbformat": 4,
 "nbformat_minor": 2
}
