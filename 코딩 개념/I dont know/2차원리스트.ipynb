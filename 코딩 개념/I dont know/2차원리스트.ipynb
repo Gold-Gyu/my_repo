{
 "cells": [
  {
   "attachments": {},
   "cell_type": "markdown",
   "metadata": {},
   "source": [
    "# 2차원리스트\n",
    "리스트안에 리스트\n",
    "\n",
    "list_list = [[1, 2], [3, 4]]\n",
    "\n",
    "기존 리스트에서 원소를 구할때는\n",
    "my_list = [1, 2, 3, 4, 5]\n",
    "\n",
    "for num in my_list:\n",
    "    print(num)\n",
    "\n",
    "## 2차원리스트 모두 출력하기\n",
    "원소를 구할 때는 for문안에 for문이 필요하다\n",
    "list_list = [[1, 2], [3, 4]]\n",
    "\n",
    "for x in range(2): 큰리스트 길이\n",
    "    for y in range(2): 작은 리스트길이\n",
    "        print(list_list[x][y])\n",
    "\n",
    "## 델타배열\n",
    "이 배열이 의미하는 것\n",
    "dx[0] => 상으로 움직인다.\n",
    "인덱스가 0 이면 상\n",
    "1이면 하\n",
    "2면 좌\n",
    "3이면 우"
   ]
  },
  {
   "cell_type": "code",
   "execution_count": 16,
   "metadata": {},
   "outputs": [
    {
     "name": "stdout",
     "output_type": "stream",
     "text": [
      "2 1\n",
      "1 1\n",
      "0 1\n",
      "chl종위치는 : (0, 1)\n"
     ]
    }
   ],
   "source": [
    "N = 5\n",
    "list2 = [[0] * N for _ in range(N)]\n",
    "\n",
    "now = [2,2]\n",
    "\n",
    "# 하 우 우 로  움직이고 나서 좌표는?\n",
    "# 1  3  3\n",
    "# 상 하 좌 우\n",
    "# 0  1  2  3\n",
    "moves = [1, 3, 3]\n",
    "\n",
    "# 상하좌우\n",
    "dx = [-1,1,0,0]\n",
    "dy = [0,0,-1,1]\n",
    "\n",
    "# dx[1] + dy[3] +dy[3]\n",
    "\n",
    "# 동서남북\n",
    "# = 우좌하상\n",
    "\n",
    "dx =[0,0,1,-1]\n",
    "dy = [1,-1,0,0]\n",
    "# d = 0 상\n",
    "# d = 1 하\n",
    "# d = 3 우\n",
    "for d in moves:\n",
    "    nx = now[0] + dx[d]\n",
    "    ny = now[1] + dy[d]\n",
    "    print(nx, ny)\n",
    "    now = [nx, ny] \n",
    "\n",
    "print(f\"최종위치는 : ({now[0]}, {now[1]})\")\n",
    "\n",
    "\n"
   ]
  }
 ],
 "metadata": {
  "kernelspec": {
   "display_name": ".venv",
   "language": "python",
   "name": "python3"
  },
  "language_info": {
   "codemirror_mode": {
    "name": "ipython",
    "version": 3
   },
   "file_extension": ".py",
   "mimetype": "text/x-python",
   "name": "python",
   "nbconvert_exporter": "python",
   "pygments_lexer": "ipython3",
   "version": "3.9.13 (tags/v3.9.13:6de2ca5, May 17 2022, 16:36:42) [MSC v.1929 64 bit (AMD64)]"
  },
  "orig_nbformat": 4,
  "vscode": {
   "interpreter": {
    "hash": "c2907e70d554aa1549e6655e477ad31f7929692715cdff3b8658109b50497419"
   }
  }
 },
 "nbformat": 4,
 "nbformat_minor": 2
}
