{
 "cells": [
  {
   "attachments": {},
   "cell_type": "markdown",
   "metadata": {},
   "source": [
    "# CS개념\n",
    "\n",
    "컴파일러\n",
    "인터프리터\n",
    "소스코드란 : 파일명.py안에 있는 것"
   ]
  }
 ],
 "metadata": {
  "kernelspec": {
   "display_name": "Python 3",
   "language": "python",
   "name": "python3"
  },
  "language_info": {
   "name": "python",
   "version": "3.11.1 (tags/v3.11.1:a7a450f, Dec  6 2022, 19:58:39) [MSC v.1934 64 bit (AMD64)]"
  },
  "orig_nbformat": 4,
  "vscode": {
   "interpreter": {
    "hash": "a28b486d3d796f7b3332da4f2f6544d26413b46d73c8f9c0d089d5fd493f7556"
   }
  }
 },
 "nbformat": 4,
 "nbformat_minor": 2
}
