{
 "cells": [
  {
   "attachments": {},
   "cell_type": "markdown",
   "metadata": {},
   "source": [
    "# *Need to know*\n",
    "\n",
    "1. 리스트 : 리스트 안에서 int와 문자열간의 관계(덧셈 및 추가)\n",
    "    - ``` 'int' object is not subscriptable ``` [Title](https://www.codeit.kr/tutorials/1/typeerror-int-object-is-not-subscriptable-%EC%97%90%EB%9F%AC-%ED%95%B4%EA%B2%B0%ED%95%98%EA%B8%B0-python)\n",
    "        1. int에서 '인덱싱' 및 '슬라이싱'을 시도하려고 할 때 만나는 에러\n",
    "        2. TypeError는 자료형(int, float, str, list)과 관련된 에러\n",
    "            - 타입 에러가 걸렸을 3가지 대표적 경우\n",
    "                1. 특정 자료형에서만 사용할 수 있는 문법을 다른 자료형에서 사용하려고 할 때\n",
    "                2. 자료형을 혼동할 때(**정수형과 실수형을 혼동한 경우, 리스트와 튜플을 혼동한 경우**)\n",
    "                3. 특정 변수에 할당한 값의 자료형이 무엇인지 정확하게 파악하지 못한 경우\n",
    "\n",
    "\n",
    "    - ``` TypeError: 'int' object is not subscriptable ``` 역시 int에서 인덱싱 및 슬라이싱을 시도하려고할 때 만나는 에러\n",
    "\n",
    "\n",
    "    - 파이썬에서는 문자열이나 리스트의 인덱싱 및 슬라이싱이 가능하다. 그러나 *int형을 인덱싱 및 슬라이싱하려고 하면 아래를 만나게 된다.*\n",
    "\n",
    "    # **중요한 점은 리스트는 *인덱싱*과 *슬라이싱*이 안된다는 것이다...\n",
    "\n",
    "\n",
    "\n",
    "    ## so, how to solve it\n",
    "\n",
    "    1. *인덱싱이나 슬라이싱을 의도할 경우 해당 변수는 str, list, tuple 등의 자료형이 되어야 한다.*\n",
    "\n",
    "    **인덱싱과 슬라이싱은 무엇인가??**\n",
    "    - 인덱싱은 각 자리가 가지는 숫자를 나타내는 것\n",
    "    - 슬라이싱은 연속적인 객체에서 일부를 잘라내 추출하는 방식(인덱스를 통해서)\n",
    "    \n",
    "\n",
    "---\n",
    "\n",
    "\n",
    "\n",
    "\n",
    "2. 딕셔너리 : 대응 관계를 나타낼 수 있는 자료형, key와 value값 으로 한쌍을 이루는 자료형. 딕셔너리는 리스트나 튜플처럼 순차적으로 해당 요소값을 구하지 않고 key를 통해 value를 얻는다.(리스트와 튜플은 순차적으로 요소값을 구한다.)\n",
    "딕셔너리 변수에서 []안의 숫자는 n번째 요소를 뜻하는 것이 아니라 key에 해당하는 숫자를 나타낸다. 딕셔너리는 리스트나 튜플에 있는 인덱싱 방법을 적용할 수 없다.\n",
    "\n",
    "    주의할 점\n",
    "    - \n",
    "\n",
    "딕셔너리의 기본 형태는 다음과 같다\n",
    "\n",
    "``` {key1 : value1, key2 : value2, key3 : value3, ....}```\n",
    "\n",
    "**key값에 리스트, 문자열, 정수값 모두 넣을 수 있다. 단 value값에는 리스트 사용 불가**\n",
    "\n",
    "\n",
    "## 딕셔너리에서 쌍 추가 및 삭제하는 법\n",
    "\n",
    "1. 추가하는 방법\n",
    "```\n",
    "a = {\"me\" : \"great\"}\n",
    "a[\"you\"] = \"great\"\n",
    "\n",
    "a = {\"me\" : \"great\", \"you\" : \"great\"}\n",
    "```\n",
    "\n",
    "2. 삭제하는 법\n",
    "```\n",
    "dell a[\"me\"]\n",
    "\n",
    "a = {\"you\" : \"great\"}\n",
    "```\n",
    "\n",
    "## 딕셔너리 사용법\n",
    "\n",
    "- 딕셔너리 key 값 불러오기 => 딕셔너리명[\"key\"(int면 \"\"필요없음)]\n",
    "- key는 고유한 값이기 때문에 중복값 안됨"
   ]
  }
 ],
 "metadata": {
  "kernelspec": {
   "display_name": ".venv",
   "language": "python",
   "name": "python3"
  },
  "language_info": {
   "name": "python",
   "version": "3.9.13 (tags/v3.9.13:6de2ca5, May 17 2022, 16:36:42) [MSC v.1929 64 bit (AMD64)]"
  },
  "orig_nbformat": 4,
  "vscode": {
   "interpreter": {
    "hash": "d40b66bd4bf6317ee0440b96d5e1f979a0aef3373694cd648e64c33f2eaa83d4"
   }
  }
 },
 "nbformat": 4,
 "nbformat_minor": 2
}
