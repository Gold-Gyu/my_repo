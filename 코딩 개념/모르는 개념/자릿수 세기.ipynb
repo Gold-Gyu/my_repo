{
 "cells": [
  {
   "attachments": {},
   "cell_type": "markdown",
   "metadata": {},
   "source": [
    "# 1. 리스트\n",
    "# 2. 각 자리수 10의 n으로 나눠서 다 더하기"
   ]
  },
  {
   "cell_type": "code",
   "execution_count": null,
   "metadata": {},
   "outputs": [],
   "source": [
    "s = input('숫자를 입력해주세요 : ')\n",
    "\n",
    "sum_n=0 \n",
    "\n",
    "for i in range(1,len(s)+1): \n",
    "\n",
    "    bam = int(s[-i]) % 10 ** i \n",
    "\n",
    "    sum_n += bam            \n",
    "\n",
    "print(sum_n)"
   ]
  },
  {
   "cell_type": "code",
   "execution_count": null,
   "metadata": {},
   "outputs": [],
   "source": [
    "def fn_d(n):\n",
    "    answer=0\n",
    "    while n>0 :\n",
    "        answer+=n%10\n",
    "        n= n//10\n",
    "    return (answer + n)\n",
    "\n",
    "\n",
    "\n",
    "fn_d(91)"
   ]
  }
 ],
 "metadata": {
  "kernelspec": {
   "display_name": "Python 3",
   "language": "python",
   "name": "python3"
  },
  "language_info": {
   "name": "python",
   "version": "3.11.1 (tags/v3.11.1:a7a450f, Dec  6 2022, 19:58:39) [MSC v.1934 64 bit (AMD64)]"
  },
  "orig_nbformat": 4,
  "vscode": {
   "interpreter": {
    "hash": "a28b486d3d796f7b3332da4f2f6544d26413b46d73c8f9c0d089d5fd493f7556"
   }
  }
 },
 "nbformat": 4,
 "nbformat_minor": 2
}
