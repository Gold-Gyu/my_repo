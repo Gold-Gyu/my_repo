{
 "cells": [
  {
   "cell_type": "code",
   "execution_count": null,
   "metadata": {},
   "outputs": [],
   "source": [
    "words = ['eat', 'tea', 'tan', 'ate', 'nat', 'bat']\n",
    "\n",
    "\n",
    "anagrams = {}\n",
    "\n",
    "\n",
    "\n",
    "for word in words:\n",
    "\n",
    "    temp = sorted(word)\n",
    "    temp = \"\".join(temp)\n",
    "\n",
    "\n",
    "    if anagrams.get(temp):\n",
    "        anagrams[temp].append(word)\n",
    "    else:\n",
    "        anagrams[temp] = [word]\n",
    "\n",
    "print(anagrams.values())"
   ]
  }
 ],
 "metadata": {
  "kernelspec": {
   "display_name": "Python 3",
   "language": "python",
   "name": "python3"
  },
  "language_info": {
   "name": "python",
   "version": "3.11.1 (tags/v3.11.1:a7a450f, Dec  6 2022, 19:58:39) [MSC v.1934 64 bit (AMD64)]"
  },
  "orig_nbformat": 4,
  "vscode": {
   "interpreter": {
    "hash": "a28b486d3d796f7b3332da4f2f6544d26413b46d73c8f9c0d089d5fd493f7556"
   }
  }
 },
 "nbformat": 4,
 "nbformat_minor": 2
}
