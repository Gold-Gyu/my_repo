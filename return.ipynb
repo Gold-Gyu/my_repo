{
 "cells": [
  {
   "attachments": {},
   "cell_type": "markdown",
   "metadata": {},
   "source": [
    "## return vs print\n",
    "\n",
    "- 주피터 노트북은 REPL(read-eval-print loop)환경, 사용자가 편하게 코드를 작성하고 리뷰할 수 있도록 구성되어 있다.\n",
    "- 주의해야할 특징은, 마지막으로 작성된 코드의 리턴겂을 출력하여 보여준다.\n",
    "- 따라서, 리턴을 하게되면 출력을 해준다라는 착각을 하게 된다.\n",
    "- 주피터에서는 나오지만 파이썬에서는 안나오게 되는 경우가 있다. (밑에 예시)"
   ]
  },
  {
   "cell_type": "code",
   "execution_count": 3,
   "metadata": {},
   "outputs": [
    {
     "data": {
      "text/plain": [
       "5"
      ]
     },
     "execution_count": 3,
     "metadata": {},
     "output_type": "execute_result"
    }
   ],
   "source": [
    "5"
   ]
  },
  {
   "cell_type": "code",
   "execution_count": 4,
   "metadata": {},
   "outputs": [],
   "source": [
    "def my_function():\n",
    "    return \"return!!\""
   ]
  },
  {
   "cell_type": "code",
   "execution_count": 5,
   "metadata": {},
   "outputs": [
    {
     "data": {
      "text/plain": [
       "'return!!'"
      ]
     },
     "execution_count": 5,
     "metadata": {},
     "output_type": "execute_result"
    }
   ],
   "source": [
    "my_function()"
   ]
  },
  {
   "attachments": {},
   "cell_type": "markdown",
   "metadata": {},
   "source": [
    "### 파이썬에서 결과를 콘솔이나 터미널에 출력하려면 출력함수를 사용해야한다."
   ]
  }
 ],
 "metadata": {
  "kernelspec": {
   "display_name": "Python 3",
   "language": "python",
   "name": "python3"
  },
  "language_info": {
   "codemirror_mode": {
    "name": "ipython",
    "version": 3
   },
   "file_extension": ".py",
   "mimetype": "text/x-python",
   "name": "python",
   "nbconvert_exporter": "python",
   "pygments_lexer": "ipython3",
   "version": "3.11.1"
  },
  "orig_nbformat": 4,
  "vscode": {
   "interpreter": {
    "hash": "a28b486d3d796f7b3332da4f2f6544d26413b46d73c8f9c0d089d5fd493f7556"
   }
  }
 },
 "nbformat": 4,
 "nbformat_minor": 2
}
