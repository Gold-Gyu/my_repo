{
 "cells": [
  {
   "attachments": {},
   "cell_type": "markdown",
   "metadata": {},
   "source": [
    "# 3-1 실습\n",
    "- lower(), upper()\n",
    "- .replace(A, B) : A를 찾아서 그 자리에 B로 대체한다.(문자열대체인수)\n",
    "\n",
    "apple,rottenBanana,apple,RoTTenorange,Orange"
   ]
  },
  {
   "cell_type": "code",
   "execution_count": 21,
   "metadata": {},
   "outputs": [
    {
     "name": "stdout",
     "output_type": "stream",
     "text": [
      "['apple', 'banana', 'apple', 'orange', 'orange']\n"
     ]
    }
   ],
   "source": [
    "n = input().lower().split(\",\")\n",
    "\n",
    "lst = []\n",
    "for i in n:\n",
    "\n",
    "\n",
    "    if \"apple\" in i:\n",
    "        lst.append(\"apple\")\n",
    "    elif \"banana\" in i:\n",
    "        lst.append(\"banana\")\n",
    "    else:\n",
    "        lst.append(\"orange\")\n",
    "    \n",
    "print(lst)\n"
   ]
  },
  {
   "cell_type": "code",
   "execution_count": 19,
   "metadata": {},
   "outputs": [
    {
     "name": "stdout",
     "output_type": "stream",
     "text": [
      "['apple', 'banana', 'apple', 'orange', 'orange']\n"
     ]
    }
   ],
   "source": [
    "# 3 - 2 교수님 풀이\n",
    "\n",
    "fruit_bag = input(\"과일 봉지를 입력 : \").split(\",\")\n",
    "\n",
    "fresh_bag = []\n",
    "\n",
    "for fruit in fruit_bag:\n",
    "    fruit = fruit.lower()\n",
    "    # 문자열에서 \"rotten\"이라는 단어가 포함되어 있으면 삭제\n",
    "    fruit = fruit.replace(\"rotten\", \"\")\n",
    "    fresh_bag.append(fruit)\n",
    "print(fresh_bag)"
   ]
  },
  {
   "attachments": {},
   "cell_type": "markdown",
   "metadata": {},
   "source": [
    "# 3-2\n",
    "\n",
    "for else문\n",
    "if문 break\n"
   ]
  },
  {
   "cell_type": "code",
   "execution_count": 20,
   "metadata": {},
   "outputs": [
    {
     "name": "stdout",
     "output_type": "stream",
     "text": [
      "f\n"
     ]
    }
   ],
   "source": [
    "T = input()\n",
    "\n",
    "\n",
    "for i in T:\n",
    "    if len(T) % 2 == 0:\n",
    "        print(T[len(T)//2 - 1], T[(len(T)//2)])\n",
    "        break\n",
    "else:\n",
    "    print(T[len(T)// 2])\n"
   ]
  },
  {
   "cell_type": "code",
   "execution_count": 22,
   "metadata": {},
   "outputs": [
    {
     "name": "stdout",
     "output_type": "stream",
     "text": [
      "v\n"
     ]
    }
   ],
   "source": [
    "# 3-2 교수님 풀이\n",
    "\n",
    "word = input(\"문자열을 입력하시오\")\n",
    "\n",
    "mid = len(word) // 2\n",
    "\n",
    "if len(word) % 2: # 홀수이면\n",
    "    middle = word[mid]\n",
    "else:\n",
    "    middle = word[mid - 1:mid + 1]\n",
    "    \n",
    "print(middle)"
   ]
  },
  {
   "attachments": {},
   "cell_type": "markdown",
   "metadata": {},
   "source": [
    "# 3 - 3"
   ]
  },
  {
   "cell_type": "code",
   "execution_count": null,
   "metadata": {},
   "outputs": [
    {
     "name": "stdout",
     "output_type": "stream",
     "text": [
      "16\n"
     ]
    }
   ],
   "source": [
    "infos = [{'name': 'kim', 'age': 12}, {'name': 'lee', 'age': 4}]\n",
    "\n",
    "# value = infos[0]['age'] + infos[1]['age']\n",
    "# print(value)"
   ]
  },
  {
   "cell_type": "code",
   "execution_count": 24,
   "metadata": {},
   "outputs": [
    {
     "name": "stdout",
     "output_type": "stream",
     "text": [
      "16\n"
     ]
    }
   ],
   "source": [
    "# 3-3 교수님 풀이\n",
    "\n",
    "infos = [{'name': 'kim', 'age': 12}, {'name': 'lee', 'age': 4}]\n",
    "\n",
    "age_sum = 0\n",
    "\n",
    "for info in infos:\n",
    "    age_sum += info['age']\n",
    "\n",
    "print(age_sum)\n",
    "\n",
    "#한줄\n",
    "\n",
    "age_sum = sum(([info[\"age\"]) for info in infos])"
   ]
  },
  {
   "attachments": {},
   "cell_type": "markdown",
   "metadata": {},
   "source": [
    "# 3 - 4\n",
    "\n",
    ".get 에 대한 개념 탑재!!!!!"
   ]
  },
  {
   "cell_type": "code",
   "execution_count": 33,
   "metadata": {},
   "outputs": [
    {
     "name": "stdout",
     "output_type": "stream",
     "text": [
      "{'A': 4, 'O': 4, 'B': 3, 'AB': 2}\n"
     ]
    }
   ],
   "source": [
    "# 3 - 4 교수님 풀이\n",
    "\n",
    "blood_types = [ 'A','A','O', 'B', 'A', 'O', 'AB','O', 'A', 'B', 'O', 'B', 'AB']\n",
    "\n",
    "blood_dict = {}\n",
    "\n",
    "\n",
    "for blood in blood_types:\n",
    "    if blood_dict.get(blood):\n",
    "    # 안에 blood 혈액형이 있는 경우\n",
    "        blood_dict[blood] += 1\n",
    "    else:# 안에 blood 혈액형이 없는 경우 새로운 혈액형 추가\n",
    "        blood_dict[blood] = 1\n",
    "\n",
    "print(blood_dict)"
   ]
  },
  {
   "attachments": {},
   "cell_type": "markdown",
   "metadata": {},
   "source": [
    "# 3 - 5"
   ]
  },
  {
   "cell_type": "code",
   "execution_count": null,
   "metadata": {},
   "outputs": [],
   "source": []
  }
 ],
 "metadata": {
  "kernelspec": {
   "display_name": ".venv",
   "language": "python",
   "name": "python3"
  },
  "language_info": {
   "codemirror_mode": {
    "name": "ipython",
    "version": 3
   },
   "file_extension": ".py",
   "mimetype": "text/x-python",
   "name": "python",
   "nbconvert_exporter": "python",
   "pygments_lexer": "ipython3",
   "version": "3.9.13"
  },
  "orig_nbformat": 4,
  "vscode": {
   "interpreter": {
    "hash": "c2907e70d554aa1549e6655e477ad31f7929692715cdff3b8658109b50497419"
   }
  }
 },
 "nbformat": 4,
 "nbformat_minor": 2
}
