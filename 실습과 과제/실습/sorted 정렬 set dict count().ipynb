{
 "cells": [
  {
   "attachments": {},
   "cell_type": "markdown",
   "metadata": {},
   "source": [
    "# 실습2"
   ]
  },
  {
   "cell_type": "code",
   "execution_count": 3,
   "metadata": {},
   "outputs": [
    {
     "name": "stdout",
     "output_type": "stream",
     "text": [
      "스테이크     50000\n",
      "스테이크50000     \n",
      "스테이크  50000   \n"
     ]
    }
   ],
   "source": [
    "# 실습4\n",
    "\n",
    "steak = 50000\n",
    "print(f\"스테이크{steak:>10}\")\n",
    "print(f\"스테이크{steak:<10}\")\n",
    "print(f\"스테이크{steak:^10}\")\n",
    "\n",
    "# steak뒤에다가\n",
    "#  :>len 를 쓰면 오른쪽 정렬, len만큼 확보 \n",
    "#  :<len 를 쓰면 왼 정렬, len만큼 확보\n",
    "#  :^len 를 쓰면 가운데 정렬, len만큼 확보"
   ]
  },
  {
   "attachments": {},
   "cell_type": "markdown",
   "metadata": {},
   "source": [
    "# 과제2\n",
    "# sorted를 통해 깔끔한 정렬\n",
    "# list로 주어졌을 때 내림차순 정리\n",
    "# set 함수\n",
    "# set에서 순서가 있는 시퀀스형(list)으로 형변환하는 방법"
   ]
  },
  {
   "cell_type": "code",
   "execution_count": 4,
   "metadata": {},
   "outputs": [
    {
     "name": "stdout",
     "output_type": "stream",
     "text": [
      "['핫초코', '아메리카노', '라떼', '딸기딜라이트']\n"
     ]
    }
   ],
   "source": [
    "# 과제2\n",
    "# sorted를 통해 깔끔한 정렬\n",
    "\"\"\"\n",
    "# list가 아닌 문자로 주어졌을 때 리스트로 만드는 방법\n",
    "\n",
    "orders = \"아메리카노, 핫초코, 라떼, 딸기딜라이트\"\n",
    "print(len(orders.split(\",\"))) 갯수세는법\n",
    "\n",
    "\"\"\"\n",
    "\n",
    "# list로 주어졌을 때 내림차순 정리\n",
    "orders = [\"아메리카노\", \"핫초코\", \"라떼\", \"딸기딜라이트\", \"딸기딜라이트\", \"딸기딜라이트\"]\n",
    "\n",
    "# sorted(변수, reverse = True) 역순정렬\n",
    "# sorted(정렬대상, 내림차순여부)\n",
    "# print(sorted(orders, reverse = True)) # 내림차순 정리\n",
    "\n",
    "\n",
    "\n",
    "# set 함수\n",
    "\n",
    "set_orders = set(orders)\n",
    "# print(set_orders)\n",
    "\n",
    "\n",
    "#세트에서 순서가 있는 시퀀스형(리스트)으로 형변환하는 방법\n",
    "\n",
    "list_orders = list(set_orders) \n",
    "print(sorted(list_orders, reverse = True)) # 정렬 다시 필요\n"
   ]
  },
  {
   "attachments": {},
   "cell_type": "markdown",
   "metadata": {},
   "source": [
    "과제 2-4\n",
    "\n",
    "\n",
    "1. 아이스 음료 주문\n",
    "2. 메뉴별 주문수\n",
    "\n",
    "딕셔너리 사용\n",
    "키 - 메뉴\n",
    "값 - 갯수"
   ]
  },
  {
   "cell_type": "code",
   "execution_count": 8,
   "metadata": {},
   "outputs": [
    {
     "name": "stdout",
     "output_type": "stream",
     "text": [
      "{'아메리카노': 1, '핫초코': 1, '라떼': 1, '딸기딜라이트': 3}\n"
     ]
    }
   ],
   "source": [
    "orders = [\"아메리카노\", \"핫초코\", \"라떼\", \"딸기딜라이트\", \"딸기딜라이트\", \"딸기딜라이트\"]\n",
    "\n",
    "orders_dict = {} # 빈 딕셔너리 생성 dict()\n",
    "#리스트를 순회하면서 메뉴를 확인\n",
    "\n",
    "for order in orders: # order가 내가 만든 딕셔너리의 키에 포함되어있지 않다면(지금까지 한번도 등장하지 않은 메뉴) 그 order에 매칭되는 값을 0으로 초기화, key는= 메뉴 value = 주문건수\n",
    "    if order not in orders_dict.keys():\n",
    "        orders_dict[order] = 0\n",
    "    # order가 내가 만든 딕셔너리 키에 포함되어 있다 => 이전에 등장한 메뉴\n",
    "    orders_dict[order] += 1\n",
    "\n",
    "print(orders_dict)\n",
    "\n",
    "\n",
    "\n"
   ]
  },
  {
   "attachments": {},
   "cell_type": "markdown",
   "metadata": {},
   "source": [
    "# 과제 2 - 4\n",
    "# count() 사용\n",
    "# 해당 문자열에서 단어가 몇번 나오는지 횟수를 세준다."
   ]
  },
  {
   "cell_type": "code",
   "execution_count": 6,
   "metadata": {},
   "outputs": [
    {
     "name": "stdout",
     "output_type": "stream",
     "text": [
      "2\n"
     ]
    }
   ],
   "source": [
    "# 과제 2 - 4\n",
    "\n",
    "# orders = [\"아메리카노\", \"핫초코\", \"라떼\", \"딸기딜라이트\", \"딸기딜라이트\", \"딸기딜라이트\"]\n",
    "\n",
    "# \"딸기\"가 들어간 메뉴를 총 몇번 주문했는지\n",
    "\n",
    "# cnt = 0\n",
    "# for order in orders:\n",
    "#     if order == \"딸기\":\n",
    "#         cnt += 1\n",
    "\n",
    "\n",
    "# count() 사용\n",
    "# 해당 문자열에서 단어가 몇번 나오는지 횟수를 세준다.\n",
    "\n",
    "orders = \"아이스아메리카노, 핫초코, 아이스라떼, 딸기딜라이트, 딸기딜라이트, 딸기딜라이트\"\n",
    "print(orders.count(\"아이스\"))"
   ]
  }
 ],
 "metadata": {
  "kernelspec": {
   "display_name": ".venv",
   "language": "python",
   "name": "python3"
  },
  "language_info": {
   "codemirror_mode": {
    "name": "ipython",
    "version": 3
   },
   "file_extension": ".py",
   "mimetype": "text/x-python",
   "name": "python",
   "nbconvert_exporter": "python",
   "pygments_lexer": "ipython3",
   "version": "3.9.13"
  },
  "orig_nbformat": 4,
  "vscode": {
   "interpreter": {
    "hash": "c2907e70d554aa1549e6655e477ad31f7929692715cdff3b8658109b50497419"
   }
  }
 },
 "nbformat": 4,
 "nbformat_minor": 2
}
