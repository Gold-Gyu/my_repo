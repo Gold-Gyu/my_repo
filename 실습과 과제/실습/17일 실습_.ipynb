{
 "cells": [
  {
   "attachments": {},
   "cell_type": "markdown",
   "metadata": {},
   "source": [
    "# 실습2"
   ]
  },
  {
   "cell_type": "code",
   "execution_count": 7,
   "metadata": {},
   "outputs": [
    {
     "name": "stdout",
     "output_type": "stream",
     "text": [
      "취업 준비생에게 SW 역량 향상 교육 및 다양한 취업지원 서비스를 제공하여 취업에 성공하도록 돕는 프로그램입니다.\n"
     ]
    }
   ],
   "source": [
    "\n",
    "\n",
    "# 입력 예시\n",
    "# <p>취업 준비생에게 SW 역량 향상 교육 및 다양한 취업지원 서비스를 제공하여 취업에 성공하도록 돕는 프로그램입니다.</p>\n",
    "\n",
    "# 출력 예시\n",
    "# 취업 준비생에게 SW 역량 향상 교육 및 다양한 취업지원 서비스를 제공하여 취업에 성공하도록 돕는 프로그램입니다.\n",
    "\n",
    "N = input()\n",
    "\n",
    "\n",
    "print(N[3:-4])"
   ]
  },
  {
   "attachments": {},
   "cell_type": "markdown",
   "metadata": {},
   "source": [
    "# 실습3\n",
    "\n",
    "# 대소문자 만들기는 변수명.upper() 변수명.lower()"
   ]
  },
  {
   "cell_type": "code",
   "execution_count": 10,
   "metadata": {},
   "outputs": [
    {
     "name": "stdout",
     "output_type": "stream",
     "text": [
      "Fail\n"
     ]
    }
   ],
   "source": [
    "# str_lst1 = input('문자열을 입력하세요. : ')\n",
    "# str_lst2 = input('문자열을 입력하세요. : ')\n",
    "# str_lst3 = input('문자열을 입력하세요. : ')\n",
    "\n",
    "\n",
    "# if str_lst1[-1] == str_lst2[0]:\n",
    "#     if str_lst2[-1] == str_lst3[0]:\n",
    "#         print(\"Pass\")\n",
    "#     else:\n",
    "#         print(\"Fail\")"
   ]
  },
  {
   "cell_type": "code",
   "execution_count": 29,
   "metadata": {},
   "outputs": [
    {
     "name": "stdout",
     "output_type": "stream",
     "text": [
      "Pass\n"
     ]
    }
   ],
   "source": [
    "# 어떻게 해야 대문자랑 소문자를 같은 취급할 수 있을까\n",
    "# 1. 그냥 다 대문자 or 소문자로 만들어버리고 과정을 시작한다.\n",
    "\n",
    "\n",
    "str_lst = input('문자열을 입력하세요. : ')\n",
    "\n",
    "a = str_lst.upper()\n",
    "\n",
    "\n",
    "list_word = a.split()\n",
    "\n",
    "\n",
    "if list_word[0][-1] == list_word[1][0]:\n",
    "    if list_word[1][-1] == list_word[2][0]:\n",
    "        print(\"Pass\")\n",
    "    else:\n",
    "        print(\"Fail\")\n",
    "\n"
   ]
  },
  {
   "attachments": {},
   "cell_type": "markdown",
   "metadata": {},
   "source": [
    "# 실습 4"
   ]
  },
  {
   "cell_type": "code",
   "execution_count": 37,
   "metadata": {},
   "outputs": [
    {
     "name": "stdout",
     "output_type": "stream",
     "text": [
      "스테이크  50000   \n",
      "+ VAT      7500\n",
      "총계 ₩     57500\n"
     ]
    }
   ],
   "source": [
    "# 출력 결과 예시\n",
    "# 스테이크   50,000\n",
    "# + VAT     7,500\n",
    "# 총계 ₩    57,500\n",
    "\n",
    "stake = 50000\n",
    "VAT = 7500\n",
    "total = 57500\n",
    "\n",
    "print(f\"스테이크{stake:^10}\")\n",
    "print(f\"+ VAT{VAT:>10}\")\n",
    "print(f\"총계 ₩{total:>10}\")\n",
    "\n",
    "# steak뒤에다가\n",
    "#  :>len 를 쓰면 오른쪽 정렬, len만큼 확보 \n",
    "#  :<len 를 쓰면 왼 정렬, len만큼 확보\n",
    "#  :^len 를 쓰면 가운데 정렬, len만큼 확보\n",
    "\n",
    "\n"
   ]
  },
  {
   "attachments": {},
   "cell_type": "markdown",
   "metadata": {},
   "source": [
    "# 실습 5\n",
    "\n",
    "## 튜플을 리스트에 추가하는 방법\n",
    "\n",
    "# 리스트에 추가하는 방법은 .append()\n",
    "- 첫번째 입력이 튜플의 앞부분\n",
    "- 두번째 입력이 튜플의 뒷부분\n",
    "\n"
   ]
  },
  {
   "cell_type": "code",
   "execution_count": 40,
   "metadata": {},
   "outputs": [
    {
     "name": "stdout",
     "output_type": "stream",
     "text": [
      "[('Python Homework', 3), ('Assay', 4), ('Vacation', 100), ('Soccer Contest', 10)]\n"
     ]
    }
   ],
   "source": [
    "todo = [(\"Python Homework\", 3), (\"Assay\", 4), (\"Vacation\", 100)]\n",
    "\n",
    "Do_ = input()\n",
    "day_ = int(input())\n",
    "\n",
    "todo.append((Do_, day_))\n",
    "\n",
    "print(todo)\n"
   ]
  }
 ],
 "metadata": {
  "kernelspec": {
   "display_name": "Python 3",
   "language": "python",
   "name": "python3"
  },
  "language_info": {
   "codemirror_mode": {
    "name": "ipython",
    "version": 3
   },
   "file_extension": ".py",
   "mimetype": "text/x-python",
   "name": "python",
   "nbconvert_exporter": "python",
   "pygments_lexer": "ipython3",
   "version": "3.11.1"
  },
  "orig_nbformat": 4,
  "vscode": {
   "interpreter": {
    "hash": "a28b486d3d796f7b3332da4f2f6544d26413b46d73c8f9c0d089d5fd493f7556"
   }
  }
 },
 "nbformat": 4,
 "nbformat_minor": 2
}
