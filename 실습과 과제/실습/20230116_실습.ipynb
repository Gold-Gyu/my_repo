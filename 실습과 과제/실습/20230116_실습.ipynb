{
 "cells": [
  {
   "cell_type": "code",
   "execution_count": null,
   "metadata": {},
   "outputs": [],
   "source": [
    "# 1번\n",
    "print('\"c:\\\\python_project\\\\test\"')"
   ]
  },
  {
   "cell_type": "code",
   "execution_count": 1,
   "metadata": {},
   "outputs": [
    {
     "name": "stdout",
     "output_type": "stream",
     "text": [
      "5\n"
     ]
    }
   ],
   "source": [
    "# 2번\n",
    "\n",
    "total = 30\n",
    "page1 = 6\n",
    "\n",
    "print(total//page1)"
   ]
  },
  {
   "cell_type": "code",
   "execution_count": 5,
   "metadata": {},
   "outputs": [
    {
     "name": "stdout",
     "output_type": "stream",
     "text": [
      "김코딩\n",
      " \n",
      "이싸피\n"
     ]
    }
   ],
   "source": [
    "# 3번\n",
    "\n",
    "person1 = input(\"첫 번째 사람의 이름을 입력하시오: \")\n",
    "person2 = input(\"두 번째 사람의 이름을 입력하시오: \")\n",
    "\n",
    "print(f\"{person1}\\n \\n{person2}\")"
   ]
  },
  {
   "cell_type": "code",
   "execution_count": null,
   "metadata": {},
   "outputs": [],
   "source": [
    "# 4번\n",
    "# 1000 미만 2배수와 7배수의 총합\n",
    "\n",
    "sum_a = 0\n",
    "\n",
    "for i in range(1, (1000//2)):\n",
    "    doub_ = 2 * i\n",
    "    sum_a += doub_\n",
    "\n",
    "\n",
    "sum_b = 0\n",
    "for j in range(1, (1000//7 + 1)):\n",
    "    seven_ = 7 * j\n",
    "    sum_b += seven_\n",
    "\n",
    "sum_c = 0\n",
    "for k in range(1, (1000//14 + 1)):\n",
    "    fourt = 14 * k\n",
    "    sum_c += fourt\n",
    "\n",
    "\n",
    "print(sum_a + sum_b - sum_c)"
   ]
  },
  {
   "cell_type": "code",
   "execution_count": 1,
   "metadata": {},
   "outputs": [
    {
     "name": "stdout",
     "output_type": "stream",
     "text": [
      "284787\n"
     ]
    }
   ],
   "source": [
    "# 4번 우진이 코딩 \n",
    "# SET : 집합, 중복값을 허용하지 않음.\n",
    "\n",
    "\n",
    "result = 0\n",
    "for i in range(1,1000):\n",
    "    if (i%7) == 0 or (i%2) == 0 : # 이미 14배수가 걸리기 때문에 빼지 않는다.\n",
    "        result = result + i\n",
    "print(result)"
   ]
  },
  {
   "cell_type": "code",
   "execution_count": 19,
   "metadata": {},
   "outputs": [
    {
     "name": "stdout",
     "output_type": "stream",
     "text": [
      "****\n",
      "****\n",
      "****\n",
      "****\n",
      "****\n"
     ]
    }
   ],
   "source": [
    "# 5번 문제\n",
    "\n",
    "m = 5 #세로\n",
    "n = 4 #가로\n",
    "\n",
    "for i in range(1, m+1):\n",
    "    for j in range(1, n+1):\n",
    "        print(\"*\", end = \"\")\n",
    "    print()"
   ]
  },
  {
   "cell_type": "code",
   "execution_count": 20,
   "metadata": {},
   "outputs": [
    {
     "name": "stdout",
     "output_type": "stream",
     "text": [
      "****\n",
      "****\n",
      "****\n",
      "****\n",
      "****\n"
     ]
    }
   ],
   "source": [
    "# 지현님 코드\n",
    "\n",
    "m = 5\n",
    "n = 4\n",
    "\n",
    "for i in range(m):\n",
    "    print(\"*\" * n)"
   ]
  }
 ],
 "metadata": {
  "kernelspec": {
   "display_name": "Python 3",
   "language": "python",
   "name": "python3"
  },
  "language_info": {
   "codemirror_mode": {
    "name": "ipython",
    "version": 3
   },
   "file_extension": ".py",
   "mimetype": "text/x-python",
   "name": "python",
   "nbconvert_exporter": "python",
   "pygments_lexer": "ipython3",
   "version": "3.11.1"
  },
  "orig_nbformat": 4,
  "vscode": {
   "interpreter": {
    "hash": "a28b486d3d796f7b3332da4f2f6544d26413b46d73c8f9c0d089d5fd493f7556"
   }
  }
 },
 "nbformat": 4,
 "nbformat_minor": 2
}
