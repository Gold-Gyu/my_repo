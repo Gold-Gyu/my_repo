{
 "cells": [
  {
   "cell_type": "code",
   "execution_count": 18,
   "metadata": {},
   "outputs": [
    {
     "ename": "TypeError",
     "evalue": "'int' object is not iterable",
     "output_type": "error",
     "traceback": [
      "\u001b[1;31m---------------------------------------------------------------------------\u001b[0m",
      "\u001b[1;31mTypeError\u001b[0m                                 Traceback (most recent call last)",
      "Cell \u001b[1;32mIn[18], line 14\u001b[0m\n\u001b[0;32m     10\u001b[0m     ans \u001b[39m+\u001b[39m\u001b[39m=\u001b[39m sum_\n\u001b[0;32m     12\u001b[0m     \u001b[39mprint\u001b[39m(ans \u001b[39m+\u001b[39m n)\n\u001b[1;32m---> 14\u001b[0m fn_d(\u001b[39m91\u001b[39;49m)\n",
      "Cell \u001b[1;32mIn[18], line 8\u001b[0m, in \u001b[0;36mfn_d\u001b[1;34m(n)\u001b[0m\n\u001b[0;32m      6\u001b[0m \u001b[39mdef\u001b[39;00m \u001b[39mfn_d\u001b[39m(n):\n\u001b[0;32m      7\u001b[0m     ans \u001b[39m=\u001b[39m \u001b[39m0\u001b[39m\n\u001b[1;32m----> 8\u001b[0m     result \u001b[39m=\u001b[39m \u001b[39mlist\u001b[39m(\u001b[39mmap\u001b[39;49m(\u001b[39mint\u001b[39;49m, n))\n\u001b[0;32m      9\u001b[0m     sum_ \u001b[39m=\u001b[39m \u001b[39msum\u001b[39m(result)\n\u001b[0;32m     10\u001b[0m     ans \u001b[39m+\u001b[39m\u001b[39m=\u001b[39m sum_\n",
      "\u001b[1;31mTypeError\u001b[0m: 'int' object is not iterable"
     ]
    }
   ],
   "source": [
    "# fn_d(91) \n",
    "# 출력 예시 \n",
    "# 101\n",
    "\n",
    "\n",
    "def fn_d(n):\n",
    "    ans = 0\n",
    "    result = list(map(int, n))\n",
    "    sum_ = sum(result)\n",
    "    ans += sum_\n",
    "\n",
    "    print(ans + n)\n",
    "\n",
    "fn_d(91)"
   ]
  },
  {
   "cell_type": "code",
   "execution_count": 21,
   "metadata": {},
   "outputs": [
    {
     "name": "stdout",
     "output_type": "stream",
     "text": [
      "101\n"
     ]
    }
   ],
   "source": [
    "def fn_d(n):\n",
    "\n",
    "    sum_n=0      \n",
    "\n",
    "    for i in range(1,len(s)+1): \n",
    "        bam = int(s[-i]) % 10 ** i \n",
    "        sum_n += bam            \n",
    "    print(sum_n + n)\n",
    "fn_d(91)"
   ]
  },
  {
   "cell_type": "code",
   "execution_count": 20,
   "metadata": {},
   "outputs": [
    {
     "name": "stdout",
     "output_type": "stream",
     "text": [
      "3\n"
     ]
    }
   ],
   "source": [
    "n = str(123)\n",
    "print(len(n))"
   ]
  }
 ],
 "metadata": {
  "kernelspec": {
   "display_name": ".venv",
   "language": "python",
   "name": "python3"
  },
  "language_info": {
   "codemirror_mode": {
    "name": "ipython",
    "version": 3
   },
   "file_extension": ".py",
   "mimetype": "text/x-python",
   "name": "python",
   "nbconvert_exporter": "python",
   "pygments_lexer": "ipython3",
   "version": "3.9.13 (tags/v3.9.13:6de2ca5, May 17 2022, 16:36:42) [MSC v.1929 64 bit (AMD64)]"
  },
  "orig_nbformat": 4,
  "vscode": {
   "interpreter": {
    "hash": "c2907e70d554aa1549e6655e477ad31f7929692715cdff3b8658109b50497419"
   }
  }
 },
 "nbformat": 4,
 "nbformat_minor": 2
}
