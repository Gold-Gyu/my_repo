{
 "cells": [
  {
   "attachments": {},
   "cell_type": "markdown",
   "metadata": {},
   "source": [
    "알파벳을 사전순서로 정렬하는 것\n",
    "정렬 후 똑같으면 하나의 애너그램으로 묶는다.\n"
   ]
  },
  {
   "cell_type": "code",
   "execution_count": 15,
   "metadata": {},
   "outputs": [
    {
     "name": "stdout",
     "output_type": "stream",
     "text": [
      "aet\n",
      "aet\n",
      "ant\n",
      "aet\n",
      "ant\n",
      "abt\n",
      "dict_values([['eat', 'tea', 'ate'], ['tan', 'nat'], ['bat']])\n"
     ]
    }
   ],
   "source": [
    "words = ['eat', 'tea', 'tan', 'ate', 'nat', 'bat']\n",
    "\n",
    "#에너그램 그룹 딕셔너리로 묶기\n",
    "\n",
    "anagrams = {}\n",
    "\n",
    "#에너그램 => 순서를 섞어서 다른 문자열 만들기\n",
    "# 사전순으로 정렬해버리면?? 똑같은 것들이 나온다.\n",
    "# 정렬한 다음에 비교해서 같으면 같은 애너그램그룹에 속한다.\n",
    "\n",
    "for word in words:\n",
    "\n",
    "    # 단어를 사전순으로 정렬하기\n",
    "    temp = sorted(word)\n",
    "    # 다시 단어로 만드는 법\n",
    "    temp = \"\".join(temp)\n",
    "    print(temp)\n",
    "\n",
    "    if anagrams.get(temp):\n",
    "        #정렬 결과가 이미 덕셔너리에 존재하는지 검사\n",
    "        anagrams[temp].append(word)\n",
    "    else:\n",
    "        #존재하지 않으면 새로운 리스트를 만들어서 추가\n",
    "        anagrams[temp] = [word]\n",
    "\n",
    "print(anagrams.values())"
   ]
  },
  {
   "attachments": {},
   "cell_type": "markdown",
   "metadata": {},
   "source": [
    "# 람다함수\n",
    "= 익명함수 : 다시 부를 수 없음\n",
    "한번 사용하고 버릴 때 사용 -> 또 사용하려면 변수에 람다함수 저장"
   ]
  },
  {
   "cell_type": "code",
   "execution_count": 8,
   "metadata": {},
   "outputs": [
    {
     "name": "stdout",
     "output_type": "stream",
     "text": [
      "256\n",
      "256\n"
     ]
    }
   ],
   "source": [
    "v = (lambda x: x**x)(4)\n",
    "print(v)\n",
    "\n",
    "# 변수에 람다함수 저장\n",
    "lam = (lambda x: x**x)\n",
    "print(lam(4))\n",
    "\n"
   ]
  },
  {
   "attachments": {},
   "cell_type": "markdown",
   "metadata": {},
   "source": [
    "# sorted(key, reverse)\n",
    "key : 정렬기준 (함수)"
   ]
  },
  {
   "cell_type": "code",
   "execution_count": 13,
   "metadata": {},
   "outputs": [
    {
     "name": "stdout",
     "output_type": "stream",
     "text": [
      "{'홍경환': 2, '이정현': 1, '김재만': 3}\n",
      "dict_items([('홍경환', 2), ('이정현', 1), ('김재만', 3)])\n",
      "[('이정현', 1), ('홍경환', 2), ('김재만', 3)]\n"
     ]
    }
   ],
   "source": [
    "# 딕셔너리 정렬\n",
    "# 딕셔너리는 비스퀸스형이라서 순서가 의미가 없다.\n",
    "# 순서가 없는데 정렬을 어케하나\n",
    "# items()를 통해 스퀸스가 있는 형태로 바꿔서 정렬을 한다.\n",
    "#  \n",
    "등수 = {\"홍경환\" : 2, \"이정현\" : 1, \"김재만\" : 3}\n",
    "print(등수)\n",
    "print(등수.items())\n",
    "print(sorted(등수.items(), key = lambda x: x[1]))\n",
    "# 람다에서 x는 인덱스를 나타냄 인덱스 안에서 1 인덱스 call\n",
    "\n",
    "# 함수로 하는 바법\n",
    "\n"
   ]
  },
  {
   "cell_type": "code",
   "execution_count": null,
   "metadata": {},
   "outputs": [],
   "source": []
  }
 ],
 "metadata": {
  "kernelspec": {
   "display_name": ".venv",
   "language": "python",
   "name": "python3"
  },
  "language_info": {
   "codemirror_mode": {
    "name": "ipython",
    "version": 3
   },
   "file_extension": ".py",
   "mimetype": "text/x-python",
   "name": "python",
   "nbconvert_exporter": "python",
   "pygments_lexer": "ipython3",
   "version": "3.9.13"
  },
  "orig_nbformat": 4,
  "vscode": {
   "interpreter": {
    "hash": "c2907e70d554aa1549e6655e477ad31f7929692715cdff3b8658109b50497419"
   }
  }
 },
 "nbformat": 4,
 "nbformat_minor": 2
}
