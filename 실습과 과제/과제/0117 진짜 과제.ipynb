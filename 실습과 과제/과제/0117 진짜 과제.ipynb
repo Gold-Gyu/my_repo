{
 "cells": [
  {
   "attachments": {},
   "cell_type": "markdown",
   "metadata": {},
   "source": [
    "# 3-2"
   ]
  },
  {
   "cell_type": "code",
   "execution_count": 16,
   "metadata": {},
   "outputs": [
    {
     "name": "stdout",
     "output_type": "stream",
     "text": [
      "윤년아님\n"
     ]
    }
   ],
   "source": [
    "yoon = int(input())\n",
    "\n",
    "\n",
    "if yoon % 4 == 0 and yoon % 100 != 0: \n",
    "    print(\"윤년\")\n",
    "\n",
    "elif yoon % 400 == 0:\n",
    "    print(\"윤년\")\n",
    "\n",
    "else:\n",
    "    print(\"윤년아님\")"
   ]
  },
  {
   "attachments": {},
   "cell_type": "markdown",
   "metadata": {},
   "source": [
    "# 4-2\n",
    "\n",
    "알려주셨던 split(), count(),"
   ]
  },
  {
   "cell_type": "code",
   "execution_count": 41,
   "metadata": {},
   "outputs": [
    {
     "name": "stdout",
     "output_type": "stream",
     "text": [
      "5 번째 탈락\n"
     ]
    }
   ],
   "source": [
    "words = [\"round\" , \"dream\", \"magnet\" , \"tweet\" , \"tweet\", \"trick\", \"kiwi\"]\n",
    "\n",
    "\n",
    "for i in range(len(words)-1): # len값은 7이고 -1을 한 이유는 아래 words[i+1]값이 존재하지않는 7이 되기 떄문에 \n",
    "    if words[i] == words[i+1]: # 0번째랑 1번째 ~ 5번째랑 6번째 같은 단어인지 확인\n",
    "        print(f\"{i+2} 번째 탈락\") # 같은 단어 인덱스 3과 4 발생, 인덱스 4번이 범인이지만 컴퓨터는 먼저 인식된 3을 출력 그러므로 +1, 게다가 현실에서는 1부터 시작하기 떄문에 +1을 한번더해줘서 +2로 계산 "
   ]
  },
  {
   "cell_type": "code",
   "execution_count": 45,
   "metadata": {},
   "outputs": [
    {
     "name": "stdout",
     "output_type": "stream",
     "text": [
      "3 번째 탈락\n",
      "4 번째 탈락\n"
     ]
    }
   ],
   "source": [
    "words = [\"round\" , \"dream\", \"xream\" , \"tweet\" , \"twet\", \"trick\", \"kiwi\"]\n",
    "\n",
    "\n",
    "\n",
    "for i in range(len(words)-1):\n",
    "    if words[i][-1] != words[i+1][0] or words[i] == words[i+1]: \n",
    "\n",
    "        print(f\"{i+2} 번째 탈락\")"
   ]
  }
 ],
 "metadata": {
  "kernelspec": {
   "display_name": ".venv",
   "language": "python",
   "name": "python3"
  },
  "language_info": {
   "codemirror_mode": {
    "name": "ipython",
    "version": 3
   },
   "file_extension": ".py",
   "mimetype": "text/x-python",
   "name": "python",
   "nbconvert_exporter": "python",
   "pygments_lexer": "ipython3",
   "version": "3.9.13 (tags/v3.9.13:6de2ca5, May 17 2022, 16:36:42) [MSC v.1929 64 bit (AMD64)]"
  },
  "orig_nbformat": 4,
  "vscode": {
   "interpreter": {
    "hash": "c2907e70d554aa1549e6655e477ad31f7929692715cdff3b8658109b50497419"
   }
  }
 },
 "nbformat": 4,
 "nbformat_minor": 2
}
