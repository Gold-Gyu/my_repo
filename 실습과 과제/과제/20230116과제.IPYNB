{
 "cells": [
  {
   "cell_type": "code",
   "execution_count": 2,
   "metadata": {},
   "outputs": [
    {
     "name": "stdout",
     "output_type": "stream",
     "text": [
      "86.75\n"
     ]
    }
   ],
   "source": [
    "# 과제 1번\n",
    "\n",
    "score = {\n",
    "    'python': 80,\n",
    "    'django': 89,\n",
    "    'web': 83\n",
    "}\n",
    "\n",
    "score['algorithm'] = 90 # algorithm : 90 추가\n",
    "score['python'] = 85 # python : 85 수정\n",
    "\n",
    "print((score['python'] + score['django'] + score['web'] + score['algorithm'])/len(score)) # 이 방법말고 다른 방법이 있을까?\n",
    "\n",
    "# score\n",
    "# score[0] + score[1] + score[2] + score[3]\n",
    "\n",
    "\n"
   ]
  },
  {
   "cell_type": "code",
   "execution_count": 16,
   "metadata": {},
   "outputs": [
    {
     "name": "stdout",
     "output_type": "stream",
     "text": [
      "86.75\n"
     ]
    }
   ],
   "source": [
    "score = {\n",
    "    'python': 80,\n",
    "    'django': 89,\n",
    "    'web': 83\n",
    "}\n",
    "score['algorithm'] = 90 # algorithm : 90 추가\n",
    "score['python'] = 85 # python : 85 수정\n",
    "total = 0\n",
    "\n",
    "for i in score.values():\n",
    "    total+=i                # 85 + 89 + 83 + 09\n",
    "print(total/len(score))"
   ]
  },
  {
   "cell_type": "code",
   "execution_count": 1,
   "metadata": {},
   "outputs": [
    {
     "name": "stdout",
     "output_type": "stream",
     "text": [
      "71\n"
     ]
    }
   ],
   "source": [
    "# 과제 2번\n",
    "# 입력받는다\n",
    "# 10진법이니까 10의 n승으로 각자리를 나눈다.\n",
    "# 그 값을 모두 더한다.\n",
    "\n",
    "s = input('숫자를 입력해주세요 : ')\n",
    "\n",
    "sum_n=0      #초기값 설정\n",
    "\n",
    "for i in range(1,len(s)+1): # 1 ~ 인덱스 수만큼 i 만복\n",
    "    bam = int(s[-i]) % 10 ** i # 각자리 10의 i승으로 나눈 나머지 값\n",
    "                     \n",
    "    sum_n += bam            # 나온 값들의 합\n",
    "print(sum_n)\n",
    "\n"
   ]
  }
 ],
 "metadata": {
  "kernelspec": {
   "display_name": "Python 3",
   "language": "python",
   "name": "python3"
  },
  "language_info": {
   "codemirror_mode": {
    "name": "ipython",
    "version": 3
   },
   "file_extension": ".py",
   "mimetype": "text/x-python",
   "name": "python",
   "nbconvert_exporter": "python",
   "pygments_lexer": "ipython3",
   "version": "3.11.1"
  },
  "orig_nbformat": 4,
  "vscode": {
   "interpreter": {
    "hash": "aee8b7b246df8f9039afb4144a1f6fd8d2ca17a180786b69acc140d282b71a49"
   }
  }
 },
 "nbformat": 4,
 "nbformat_minor": 2
}
