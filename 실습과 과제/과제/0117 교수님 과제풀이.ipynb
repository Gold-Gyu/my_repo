{
 "cells": [
  {
   "attachments": {},
   "cell_type": "markdown",
   "metadata": {},
   "source": [
    "# 1월 17일 3-2 과제 교수님 풀이\n",
    "\n",
    "\n",
    "boolen 사용. 윤년이면 true 윤년이 아니면 false"
   ]
  },
  {
   "cell_type": "code",
   "execution_count": 3,
   "metadata": {},
   "outputs": [
    {
     "name": "stdout",
     "output_type": "stream",
     "text": [
      "1700년은 윤년이 아닙니다.\n"
     ]
    }
   ],
   "source": [
    "\"\"\"\n",
    "\n",
    "year = int(input(\"연도를 입력하세요 :\"))\n",
    "\n",
    "if ((year % 4 == 0) and (year % 100 != 0)) or (year % 400 == 0):\n",
    "    print(f\"{year}년은 윤년입니다.\")\n",
    "else:\n",
    "    print(f\"{year}년은 윤년이 아닙니다.\")\n",
    "\"\"\"\n",
    "\n",
    "# 모듈사용\n",
    "import calendar\n",
    "year = int(input(\"연도를 입력하세요 :\"))\n",
    "\n",
    "if calendar.isleap(year):\n",
    "    print(f\"{year}년은 윤년입니다.\")\n",
    "else:\n",
    "    print(f\"{year}년은 윤년이 아닙니다.\")"
   ]
  },
  {
   "attachments": {},
   "cell_type": "markdown",
   "metadata": {},
   "source": [
    "# 4-2 교수님 풀이\n",
    "\n",
    "반복문을 잘활용할 수 있는가를 묻는 문제"
   ]
  },
  {
   "cell_type": "code",
   "execution_count": 8,
   "metadata": {},
   "outputs": [
    {
     "name": "stdout",
     "output_type": "stream",
     "text": [
      "5번째 탈락\n"
     ]
    }
   ],
   "source": [
    "#인덱스 오류는 알아서 해결할 것\n",
    "\n",
    "# words = [\"round\" , \"dream\", \"magnet\" , \"tweet\" , \"tweet\", \"trick\", \"kiwi\"]\n",
    "\n",
    "# for idx in range(len(words)):\n",
    "#     if words[idx][-1] != words[idx+1][0] or words[idx] in words[:idx]:\n",
    "#         print(f\"{idx+1}번째 탈락\")\n",
    "#         break\n",
    "# else:\n",
    "#     print(\"축하합니다.\")\n",
    "\n",
    "\"\"\"\"\n",
    "while문 사용\n",
    "while문을 사용하면 조건을 설정해야 함.\n",
    "\"\"\"\n",
    "words = [\"round\" , \"dream\", \"magnet\" , \"tweet\" , \"tweet\", \"trick\", \"kiwi\"]\n",
    "\n",
    "idx = 0\n",
    "\n",
    "while idx < len(words) - 1:\n",
    "    idx += 1\n",
    "    if words[idx-1][-1] != words[idx][0] or words[idx] in words[:idx]:\n",
    "        print(f\"{idx+1}번째 탈락\")\n",
    "        break\n",
    "    if idx == len(words) - 1:\n",
    "        print(\"축하합니다.\")\n",
    "\n"
   ]
  }
 ],
 "metadata": {
  "kernelspec": {
   "display_name": ".venv",
   "language": "python",
   "name": "python3"
  },
  "language_info": {
   "codemirror_mode": {
    "name": "ipython",
    "version": 3
   },
   "file_extension": ".py",
   "mimetype": "text/x-python",
   "name": "python",
   "nbconvert_exporter": "python",
   "pygments_lexer": "ipython3",
   "version": "3.9.13"
  },
  "orig_nbformat": 4,
  "vscode": {
   "interpreter": {
    "hash": "c2907e70d554aa1549e6655e477ad31f7929692715cdff3b8658109b50497419"
   }
  }
 },
 "nbformat": 4,
 "nbformat_minor": 2
}
