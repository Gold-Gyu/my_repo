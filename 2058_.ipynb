{
 "cells": [
  {
   "attachments": {},
   "cell_type": "markdown",
   "metadata": {},
   "source": [
    "# SWEA 2058 자리수 더하기\n",
    "\n",
    "하나의 자연수를 입력 받아 각 자릿수의 합을 계산하는 프로그램을 작성하라.\n",
    "\n",
    "\n",
    "[제약 사항]\n",
    "\n",
    "자연수 N은 1부터 9999까지의 자연수이다. (1 ≤ N ≤ 9999)\n",
    "\n",
    "\n",
    "[입력]\n",
    "\n",
    "입력으로 자연수 N이 주어진다.\n",
    "\n",
    "\n",
    "[출력]\n",
    "\n",
    "각 자릿수의 합을 출력한다."
   ]
  },
  {
   "cell_type": "code",
   "execution_count": 4,
   "metadata": {},
   "outputs": [
    {
     "name": "stdout",
     "output_type": "stream",
     "text": [
      "30\n"
     ]
    },
    {
     "data": {
      "text/plain": [
       "'\\n과정 :\\n\\n6789 => 9\\n678 => 8\\n67 => 7\\n6 => 6\\n=> 0\\n\\n9 + 8 + 7 + 6 + 0 = 30\\n\\n\\n'"
      ]
     },
     "execution_count": 4,
     "metadata": {},
     "output_type": "execute_result"
    }
   ],
   "source": [
    "n = int(input())\n",
    "\n",
    "# 파이썬의 내장함수 중에 sum이라는 함수가 있다.\n",
    "\n",
    "sum_n = 0 #초기값 설정 매우 중요\n",
    "# 내장함수와 내가 만든 변수의 이름이 같으면\n",
    "# 원래 내장함수를 사용할 수 없게 된어버린다.\n",
    "\n",
    "while n > 0:\n",
    "    sum_n = sum_n + (n%10)\n",
    "    n = n // 10\n",
    "\n",
    "#기행 조심할 것\n",
    "\n",
    "\n",
    "\n",
    "print(sum_n)\n",
    "\n",
    "\"\"\"\n",
    "과정 :\n",
    "\n",
    "6789 => 9\n",
    "678 => 8\n",
    "67 => 7\n",
    "6 => 6\n",
    "=> 0\n",
    "\n",
    "9 + 8 + 7 + 6 + 0 = 30\n",
    "\n",
    "\n",
    "\"\"\""
   ]
  }
 ],
 "metadata": {
  "kernelspec": {
   "display_name": "Python 3",
   "language": "python",
   "name": "python3"
  },
  "language_info": {
   "codemirror_mode": {
    "name": "ipython",
    "version": 3
   },
   "file_extension": ".py",
   "mimetype": "text/x-python",
   "name": "python",
   "nbconvert_exporter": "python",
   "pygments_lexer": "ipython3",
   "version": "3.11.1 (tags/v3.11.1:a7a450f, Dec  6 2022, 19:58:39) [MSC v.1934 64 bit (AMD64)]"
  },
  "orig_nbformat": 4,
  "vscode": {
   "interpreter": {
    "hash": "a28b486d3d796f7b3332da4f2f6544d26413b46d73c8f9c0d089d5fd493f7556"
   }
  }
 },
 "nbformat": 4,
 "nbformat_minor": 2
}
