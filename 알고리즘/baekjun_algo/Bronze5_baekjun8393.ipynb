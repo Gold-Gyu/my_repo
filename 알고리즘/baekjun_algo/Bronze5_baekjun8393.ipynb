{
 "cells": [
  {
   "attachments": {},
   "cell_type": "markdown",
   "metadata": {},
   "source": [
    "문제\n",
    "n이 주어졌을 때, 1부터 n까지 합을 구하는 프로그램을 작성하시오.\n",
    "\n",
    "입력\n",
    "첫째 줄에 n (1 ≤ n ≤ 10,000)이 주어진다.\n",
    "\n",
    "출력\n",
    "1부터 n까지 합을 출력한다.\n",
    "\n",
    "예제 입력 1 \n",
    "3\n",
    "예제 출력 1 \n",
    "6"
   ]
  },
  {
   "cell_type": "code",
   "execution_count": 19,
   "metadata": {},
   "outputs": [
    {
     "name": "stdout",
     "output_type": "stream",
     "text": [
      "1\n",
      "3\n",
      "6\n"
     ]
    }
   ],
   "source": [
    "# 누적합에 대한 개념 탑재해라 꼭!!!!!!\n",
    "# 변수를 먼저 설정한다\n",
    "# for문\n",
    "A = int(input())\n",
    "\n",
    "ans = 0\n",
    "\n",
    "for i in range(1, A+1): # 3을 입력했을 때 : i = 1, 2, 3\n",
    "                        # 0+1 => 1+2 => 3+3\n",
    "\n",
    "    ans += i            # ans = ans + i\n",
    "\"\"\" \n",
    "0 + 1 => ans = 1 \n",
    "다음에는 ans + 2 => 1 + 2 = 3\n",
    "그 다음에는 ans + 3 => 3 + 3 = 6\n",
    "\"\"\"\n",
    "print(ans)              # 맨 마지막 6 출력"
   ]
  },
  {
   "cell_type": "code",
   "execution_count": null,
   "metadata": {},
   "outputs": [],
   "source": [
    "#for문과 같은 선상에서 프린트할 때는 마지막 결과값만이 나온다.\n",
    "#for문 안에서 프린트할 때는 for문 과정에서 나온 값들 모두가 출력된다.\n",
    "\n",
    "# for문 안에서 프린트할 때 나오는 값\n",
    "\n",
    "A = int(input())\n",
    "\n",
    "ans = 0\n",
    "\n",
    "for i in range(1, A+1): # 3을 입력했을 때 : 1, 2, 3\n",
    "                        # 0+1 => 1+2 => 3+3\n",
    "   \n",
    "    ans += i\n",
    "    print(ans)          # for문 동안 나온 1, 3, 6 과정이 모두 출력\n",
    "\n"
   ]
  }
 ],
 "metadata": {
  "kernelspec": {
   "display_name": "Python 3",
   "language": "python",
   "name": "python3"
  },
  "language_info": {
   "codemirror_mode": {
    "name": "ipython",
    "version": 3
   },
   "file_extension": ".py",
   "mimetype": "text/x-python",
   "name": "python",
   "nbconvert_exporter": "python",
   "pygments_lexer": "ipython3",
   "version": "3.11.1"
  },
  "orig_nbformat": 4,
  "vscode": {
   "interpreter": {
    "hash": "aee8b7b246df8f9039afb4144a1f6fd8d2ca17a180786b69acc140d282b71a49"
   }
  }
 },
 "nbformat": 4,
 "nbformat_minor": 2
}
