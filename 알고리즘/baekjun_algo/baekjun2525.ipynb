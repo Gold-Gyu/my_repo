{
 "cells": [
  {
   "attachments": {},
   "cell_type": "markdown",
   "metadata": {},
   "source": [
    "# 오븐 시계\n",
    "\n",
    "## 문제\n",
    "KOI 전자에서는 건강에 좋고 맛있는 훈제오리구이 요리를 간편하게 만드는 인공지능 오븐을 개발하려고 한다. 인공지능 오븐을 사용하는 방법은 적당한 양의 오리 훈제 재료를 인공지능 오븐에 넣으면 된다. 그러면 인공지능 오븐은 오븐구이가 끝나는 시간을 분 단위로 자동적으로 계산한다. \n",
    "\n",
    "또한, KOI 전자의 인공지능 오븐 앞면에는 사용자에게 훈제오리구이 요리가 끝나는 시각을 알려 주는 디지털 시계가 있다. \n",
    "\n",
    "훈제오리구이를 시작하는 시각과 오븐구이를 하는 데 필요한 시간이 분단위로 주어졌을 때, 오븐구이가 끝나는 시각을 계산하는 프로그램을 작성하시오.\n",
    "\n",
    "## 입력\n",
    "첫째 줄에는 현재 시각이 나온다. 현재 시각은 시 A (0 ≤ A ≤ 23) 와 분 B (0 ≤ B ≤ 59)가 정수로 빈칸을 사이에 두고 순서대로 주어진다. 두 번째 줄에는 요리하는 데 필요한 시간 C (0 ≤ C ≤ 1,000)가 분 단위로 주어진다. \n",
    "\n",
    "## 출력\n",
    "첫째 줄에 종료되는 시각의 시와 분을 공백을 사이에 두고 출력한다. (단, 시는 0부터 23까지의 정수, 분은 0부터 59까지의 정수이다. 디지털 시계는 23시 59분에서 1분이 지나면 0시 0분이 된다.)\n",
    "\n",
    "\n",
    "## 1차시도"
   ]
  },
  {
   "cell_type": "code",
   "execution_count": 27,
   "metadata": {},
   "outputs": [
    {
     "name": "stdout",
     "output_type": "stream",
     "text": [
      "18 40\n"
     ]
    }
   ],
   "source": [
    "A, B = map(int, input().split()) # 변수 이름 명확하게 짓기\n",
    "\n",
    "C = int(input())\n",
    "\n",
    "\n",
    "if B + C > 60 and A == 23: # 이 부분 고칠 것!\n",
    "    print(f\"{0} {B + C - 60}\")\n",
    "elif B + C < 60:\n",
    "    print(f\"{A} {B+C}\")\n",
    "elif B + C > 60 and (B + C)%60 == 0:\n",
    "    print(f\"{A + ((B + C)//60)} {0}\")\n",
    "elif A == 23 and B + C > 60 and (B + C)%60 == 0: # 여길 if문으로?\n",
    "    print(f\"{0 + ((B + C)//60)} {0}\")\n",
    "else:\n",
    "    print(f\"{A + ((B + C)//60)} {B + C - 60}\")\n"
   ]
  },
  {
   "attachments": {},
   "cell_type": "markdown",
   "metadata": {},
   "source": [
    "## 2차 시도"
   ]
  },
  {
   "cell_type": "code",
   "execution_count": null,
   "metadata": {},
   "outputs": [
    {
     "name": "stdout",
     "output_type": "stream",
     "text": [
      "0 13\n"
     ]
    }
   ],
   "source": [
    "A, B = map(int, input().split()) # 변수 이름 명확하게 짓기\n",
    "\n",
    "C = int(input())\n",
    "\n",
    "\n",
    "if A == 23 and B + C > 60 and (B + C)%60 == 0: # 여길 if문으로?\n",
    "    print(f\"{0 + ((B + C)//60)} {0}\")        \n",
    "elif A == 23 and B + C > 60 and (B + C)%60 != 0: # 이 부분 고칠 것!\n",
    "    print(f\"{0} {B + C - 60}\")\n",
    "elif B + C < 60:\n",
    "    print(f\"{A} {B+C}\")    \n",
    "elif A != 23 and B + C > 60:\n",
    "    print(f\"{A + ((B + C)//60)} {B + C - (((B + C)//60) * 60)}\")\n"
   ]
  },
  {
   "attachments": {},
   "cell_type": "markdown",
   "metadata": {},
   "source": [
    "## 다른 코드 리뷰"
   ]
  },
  {
   "cell_type": "code",
   "execution_count": null,
   "metadata": {},
   "outputs": [],
   "source": [
    "A, B = map(int, input().split())\n",
    "C = int(input())\n",
    "\n",
    "hour = (B+C)//60\n",
    "min = (B+C)%60\n",
    "\n",
    "if(B + C >= 60):\n",
    "  if(A+hour >= 24):\n",
    "    A = A - 24\n",
    "  A = A + hour\n",
    "  print(A, min)\n",
    "\n",
    "else:\n",
    "  if(A >= 24):\n",
    "    A = A - 24\n",
    "  print(A, B+C)"
   ]
  },
  {
   "attachments": {},
   "cell_type": "markdown",
   "metadata": {},
   "source": [
    "# 느낀점\n",
    "\n",
    "- if 반복문에 대한 이해가 부족하다\n",
    "- A = A - 24와 A = A + hour가 상식적으로 이해가 안간다. 예를 들어 26 = 26 - 24로 대입하면 이게 식이 된다는건가? A = 26 -24라면 이해를 하겠지만 이미 앞에 A는 값을 받은 상태 아닌가??\n",
    "- **입력값 외에도 다른 변수들을 활용해서 간편하게 활용하면 더 좋다**\n"
   ]
  }
 ],
 "metadata": {
  "kernelspec": {
   "display_name": "Python 3",
   "language": "python",
   "name": "python3"
  },
  "language_info": {
   "codemirror_mode": {
    "name": "ipython",
    "version": 3
   },
   "file_extension": ".py",
   "mimetype": "text/x-python",
   "name": "python",
   "nbconvert_exporter": "python",
   "pygments_lexer": "ipython3",
   "version": "3.11.1"
  },
  "orig_nbformat": 4,
  "vscode": {
   "interpreter": {
    "hash": "aee8b7b246df8f9039afb4144a1f6fd8d2ca17a180786b69acc140d282b71a49"
   }
  }
 },
 "nbformat": 4,
 "nbformat_minor": 2
}
