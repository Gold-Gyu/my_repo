{
 "cells": [
  {
   "cell_type": "code",
   "execution_count": 40,
   "metadata": {},
   "outputs": [
    {
     "name": "stdout",
     "output_type": "stream",
     "text": [
      "Joe Junior\n",
      "Bill Senoir\n",
      "Billy Junior\n",
      "Sam Senoir\n"
     ]
    }
   ],
   "source": [
    "while True:\n",
    "    name_, age_, kg_  = input().split()\n",
    "\n",
    "    a, b = int(age_), int(kg_)\n",
    "  \n",
    "\n",
    "\n",
    "    if name_ == \"#\" and a == 0 and b == 0:\n",
    "        break\n",
    "\n",
    "    if a > 17 or b >= 80:\n",
    "        print(f\"{name_} Senior\")\n",
    "    else:\n",
    "        print(f\"{name_} Junior\")"
   ]
  }
 ],
 "metadata": {
  "kernelspec": {
   "display_name": "Python 3",
   "language": "python",
   "name": "python3"
  },
  "language_info": {
   "codemirror_mode": {
    "name": "ipython",
    "version": 3
   },
   "file_extension": ".py",
   "mimetype": "text/x-python",
   "name": "python",
   "nbconvert_exporter": "python",
   "pygments_lexer": "ipython3",
   "version": "3.11.1 (v3.11.1:a7a450f84a, Dec  6 2022, 15:24:06) [Clang 13.0.0 (clang-1300.0.29.30)]"
  },
  "orig_nbformat": 4,
  "vscode": {
   "interpreter": {
    "hash": "aee8b7b246df8f9039afb4144a1f6fd8d2ca17a180786b69acc140d282b71a49"
   }
  }
 },
 "nbformat": 4,
 "nbformat_minor": 2
}
