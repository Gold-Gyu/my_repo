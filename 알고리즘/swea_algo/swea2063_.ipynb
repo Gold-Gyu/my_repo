{
 "cells": [
  {
   "attachments": {},
   "cell_type": "markdown",
   "metadata": {},
   "source": [
    "# 중간값 구하기\n",
    "\n",
    "\n",
    "중간값은 통계 집단의 수치를 크기 순으로 배열 했을 때 전체의 중앙에 위치하는 수치를 뜻한다.\n",
    "\n",
    "입력으로 N 개의 점수가 주어졌을 때, 중간값을 출력하라.\n",
    "\n",
    "\n",
    "[예제]\n",
    "\n",
    "N이 9 이고, 9개의 점수가 아래와 같이 주어질 경우,\n",
    "\n",
    "85 72 38 80 69 65 68 96 22\n",
    "\n",
    "69이 중간값이 된다.\n",
    "\n",
    "\n",
    "[제약 사항]\n",
    "\n",
    "1. N은 항상 홀수로 주어진다.\n",
    "\n",
    "2. N은 9이상 199 이하의 정수이다. (9 ≤ N ≤ 199)\n",
    "\n",
    "\n",
    "[입력]\n",
    "\n",
    "입력은 첫 줄에 N 이 주어진다.\n",
    "\n",
    "둘째 줄에 N 개의 점수가 주어진다.\n",
    "\n",
    "\n",
    "[출력]\n",
    "\n",
    "N 개의 점수들 중, 중간값에 해당하는 점수를 정답으로 출력한다."
   ]
  },
  {
   "cell_type": "code",
   "execution_count": 1,
   "metadata": {},
   "outputs": [
    {
     "name": "stdout",
     "output_type": "stream",
     "text": [
      "58\n"
     ]
    }
   ],
   "source": [
    "T = int(input())\n",
    "\n",
    "\n",
    "lst = list(map(int, input().split()))\n",
    "\n",
    "    \n",
    "\n",
    "print(sorted(lst)[T//2])"
   ]
  }
 ],
 "metadata": {
  "kernelspec": {
   "display_name": ".venv",
   "language": "python",
   "name": "python3"
  },
  "language_info": {
   "codemirror_mode": {
    "name": "ipython",
    "version": 3
   },
   "file_extension": ".py",
   "mimetype": "text/x-python",
   "name": "python",
   "nbconvert_exporter": "python",
   "pygments_lexer": "ipython3",
   "version": "3.9.13"
  },
  "orig_nbformat": 4,
  "vscode": {
   "interpreter": {
    "hash": "d40b66bd4bf6317ee0440b96d5e1f979a0aef3373694cd648e64c33f2eaa83d4"
   }
  }
 },
 "nbformat": 4,
 "nbformat_minor": 2
}
