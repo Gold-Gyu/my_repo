{
 "cells": [
  {
   "attachments": {},
   "cell_type": "markdown",
   "metadata": {},
   "source": [
    "# 알파벳을 숫자로 변환\n",
    "\n",
    "알파벳으로 이루어진 문자열을 입력 받아 각 알파벳을 1부터 26까지의 숫자로 변환하여 출력하라.\n",
    "\n",
    "\n",
    "[제약 사항]\n",
    "\n",
    "문자열의 최대 길이는 200이다.\n",
    "\n",
    "\n",
    "[입력]\n",
    "\n",
    "알파벳으로 이루어진 문자열이 주어진다.\n",
    "\n",
    "\n",
    "[출력]\n",
    "\n",
    "각 알파벳을 숫자로 변환한 결과값을 빈 칸을 두고 출력한다.\n",
    " \n",
    "\n",
    "입력ABCDEFGHIJKLMNOPQRSTUVWXYZ\n",
    "\n",
    "\n",
    "출력\n",
    "1 2 3 4 5 6 7 8 9 10 11 12 13 14 15 16 17 18 19 20 21 22 23 24 25 26"
   ]
  },
  {
   "cell_type": "code",
   "execution_count": 23,
   "metadata": {},
   "outputs": [],
   "source": [
    "#오답\n",
    "# 오답이 이유는 ord()가 무엇인지 몰랐기 때문\n",
    "#ord()는 문자열을 아스키코드로 변환해준다.\n",
    "#ord()는 문자열이다. => str()\n",
    "#ord()를 통해 배출된 아스키코드는 int이다\n",
    "#게다가 len도 문자열이기 때문에 b값은 계산되지 않는다( 문자열과 정수는 계산 불가 )\n",
    "\n",
    "\n",
    "Txt = input()\n",
    "a = len(Txt)\n",
    "\n",
    "for i in range(1, a+1):\n",
    "    b = ord(i) - 64\n",
    "    print(b, end = \" \")"
   ]
  },
  {
   "attachments": {},
   "cell_type": "markdown",
   "metadata": {},
   "source": [
    "## 정답 코드"
   ]
  },
  {
   "cell_type": "code",
   "execution_count": 22,
   "metadata": {},
   "outputs": [
    {
     "name": "stdout",
     "output_type": "stream",
     "text": [
      "1 2 3 4 5 6 7 8 9 10 11 12 13 14 15 16 17 18 19 20 21 22 23 24 25 26 "
     ]
    }
   ],
   "source": [
    "a = input()\n",
    "\n",
    "\n",
    "for i in a:\n",
    "    b = ord(i) - 64\n",
    "    print(b, end = \" \")"
   ]
  }
 ],
 "metadata": {
  "kernelspec": {
   "display_name": "Python 3",
   "language": "python",
   "name": "python3"
  },
  "language_info": {
   "codemirror_mode": {
    "name": "ipython",
    "version": 3
   },
   "file_extension": ".py",
   "mimetype": "text/x-python",
   "name": "python",
   "nbconvert_exporter": "python",
   "pygments_lexer": "ipython3",
   "version": "3.11.1"
  },
  "orig_nbformat": 4,
  "vscode": {
   "interpreter": {
    "hash": "aee8b7b246df8f9039afb4144a1f6fd8d2ca17a180786b69acc140d282b71a49"
   }
  }
 },
 "nbformat": 4,
 "nbformat_minor": 2
}
