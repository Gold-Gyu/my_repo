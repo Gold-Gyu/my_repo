{
 "cells": [
  {
   "attachments": {},
   "cell_type": "markdown",
   "metadata": {},
   "source": [
    "## 몫과 나머지 구하기\n",
    "\n",
    "2개의 수 a, b를 입력 받아, a를 b로 나눈 몫과 나머지를 출력하는 프로그램을 작성하라.\n",
    "\n",
    "[제약 사항]\n",
    "\n",
    "각 수는 1이상 10000이하의 정수이다.\n",
    "\n",
    "\n",
    "[입력]\n",
    "\n",
    "가장 첫 줄에는 테스트 케이스의 개수 T가 주어지고, 그 아래로 각 테스트 케이스가 주어진다.\n",
    "\n",
    "각 테스트 케이스의 첫 번째 줄에는 2개의 수가 주어진다.\n",
    "\n",
    "\n",
    "[출력]\n",
    "\n",
    "출력의 각 줄은 '#t'로 시작하고 공백을 한 칸 둔 다음, 몫을 출력하고 공백을 한 칸 둔 다음 나머지를 출력한다.\n",
    "\n",
    "(t는 테스트 케이스의 번호를 의미하며 1부터 시작한다.)\n",
    "\n"
   ]
  },
  {
   "cell_type": "code",
   "execution_count": 3,
   "metadata": {},
   "outputs": [
    {
     "name": "stdout",
     "output_type": "stream",
     "text": [
      "#1 4 1\n",
      "#2 2 3\n",
      "#3 24 9\n"
     ]
    }
   ],
   "source": [
    "T = int(input())\n",
    "\n",
    "for tc in range(1, T+1):\n",
    "    A, B = map(int, input().split())\n",
    "    print(f\"#{tc} {A//B} {A%B}\")"
   ]
  }
 ],
 "metadata": {
  "kernelspec": {
   "display_name": ".venv",
   "language": "python",
   "name": "python3"
  },
  "language_info": {
   "codemirror_mode": {
    "name": "ipython",
    "version": 3
   },
   "file_extension": ".py",
   "mimetype": "text/x-python",
   "name": "python",
   "nbconvert_exporter": "python",
   "pygments_lexer": "ipython3",
   "version": "3.9.13 (tags/v3.9.13:6de2ca5, May 17 2022, 16:36:42) [MSC v.1929 64 bit (AMD64)]"
  },
  "orig_nbformat": 4,
  "vscode": {
   "interpreter": {
    "hash": "d40b66bd4bf6317ee0440b96d5e1f979a0aef3373694cd648e64c33f2eaa83d4"
   }
  }
 },
 "nbformat": 4,
 "nbformat_minor": 2
}
