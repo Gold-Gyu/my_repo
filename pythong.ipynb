{
 "cells": [
  {
   "cell_type": "code",
   "execution_count": 6,
   "metadata": {},
   "outputs": [
    {
     "name": "stdout",
     "output_type": "stream",
     "text": [
      "#1 <\n",
      "#2 =\n",
      "#3 >\n"
     ]
    }
   ],
   "source": [
    "T = int(input())\n",
    "\n",
    "for tc in range(1, T+1):\n",
    "    A, B = map(int, input().split())\n",
    "\n",
    "    if A < B:\n",
    "        print(\"#%d <\" %tc)\n",
    "    elif A == B:\n",
    "        print(\"#%d =\" %tc)\n",
    "    else:\n",
    "        print(\"#%d >\" %tc)\n",
    "        "
   ]
  },
  {
   "cell_type": "code",
   "execution_count": null,
   "metadata": {},
   "outputs": [],
   "source": []
  }
 ],
 "metadata": {
  "kernelspec": {
   "display_name": "Python 3",
   "language": "python",
   "name": "python3"
  },
  "language_info": {
   "codemirror_mode": {
    "name": "ipython",
    "version": 3
   },
   "file_extension": ".py",
   "mimetype": "text/x-python",
   "name": "python",
   "nbconvert_exporter": "python",
   "pygments_lexer": "ipython3",
   "version": "3.11.1"
  },
  "orig_nbformat": 4,
  "vscode": {
   "interpreter": {
    "hash": "a28b486d3d796f7b3332da4f2f6544d26413b46d73c8f9c0d089d5fd493f7556"
   }
  }
 },
 "nbformat": 4,
 "nbformat_minor": 2
}
