{
 "cells": [
  {
   "attachments": {},
   "cell_type": "markdown",
   "metadata": {},
   "source": [
    "# 2023-01-16 수업 내용\n",
    "\n",
    "## Python\n",
    "\n",
    "적절한 수행 절차를 통해 코딩하기 위해서는 복합적인 CS지식(네트워크, 자료구조, 컴퓨터 구조 등)의 공부가 필요하다.\n",
    "\n",
    "- 디버깅 과정 : 오류를 수정하는 과정\n",
    "\n",
    "오류의 종류\n",
    "1. 구문 오류(주로 싸피 전반기) : 문법이 틀려서 실행이 안되는 오류\n",
    "2. 논리 오류(주로 싸피 하반기) : 문법도 맞고 실행도 맞는데 결과가 틀린 오류\n",
    "\n",
    "컴퓨팅 사고(Computational Thinking)\n",
    "1. 컴퓨터의 특성을 잘 이해한다. 컴퓨터가 어떻게 작동하는지 이해한다.\n",
    "2. 문제 해결 능력을 기른다. 큰 문제를 더 작은 문제로 쪼개면서 논리적 사고를 하는 것.\n",
    "3. 프로그래밍 언어에 익숙해진다.\n",
    "1, 2, 3 과정을 복합적으로 학습한다.\n",
    "\n",
    "python\n",
    "\n",
    "컴퓨터는 기계어(2진법으로 모든 것을 표현)를 통해 소통\n",
    "그러나 기계어를 알아야 프로그래밍을 할 수 있다는 뜻은 아님.\n",
    "\n",
    "Why?\n",
    "기계어말고 사람이 이해할 수 있는 언어 : \"프로그래밍 언어\"\n",
    "1. 사람이 이해할 수 있음\n",
    "2. 기본적인 규칙과 문법이 존재\n",
    "\n",
    "파이썬은 파이썬언어를 번역하여(컴파일러 or 인터프리터) 기계어로 컴퓨터와 소통할 수 있게 한다.\n",
    "\n",
    "- 파이썬은 인터프리터를 사용한다.\n",
    "\n",
    "## Python의 특징\n",
    "1. 배우기 쉬운 언어\n",
    "    - 많은 사람들이 사용하면서 사용 분야가 넓어지고 생태계가 폭발적으로 확장함.\n",
    "\n",
    "## python 개발환경\n",
    "싸피에서는 3.9 버젼으로 다운로드받고 Add python.exe to PATH 체크하고 설치할 것.\n",
    "*최신 버젼을 사용하는 것이 아니라 가장 안전적인 버젼을 선택하여 업무를 수행한다.*\n",
    "\n",
    "- 파이썬 인터프리터 : 파이썬 한 줄 씩 바로 실행할 수 있음!!\n",
    "    파이썬 인터프리터 실행 방법 \n",
    "    1. git bash에 python 입력\n",
    "    2. 코딩 시작\n",
    "\n",
    "- but 코드가 길어지면 한 줄 씩 입력하기에는 무리가 있다. 따라서 파일 단위로 작성하고 실행하고자하는 욕구가 생김 => 파이썬 파일로 실행하게 됨\n",
    "\n",
    "- 파이썬 파일로 실행하기\n",
    "    python {실행할 파이썬파일이름}.py\n",
    "    \n",
    "- VScode : 개발에 편한 기능이 들어가 있는 메모장, 확장 프로그램을 통해 나만의 개발환경 구축 가능\n",
    "    CLI : 명령어로 동작하는 개발환경\n",
    "    파일을 만들려면 cd를 통해 이동해서 파일을 삭제하건 이동하건 실행하건 해야한다.\n",
    "\n",
    "- 파이썬 개발환경 종류\n",
    "    1. IDE\n",
    "    2. Jypyter Notebook\n",
    "    3. IDLE\n",
    "\n",
    "**알고리즘 공부할 때는 파이참 이용할 것**\n",
    "\n",
    "\n",
    "# 파이썬의 기초 문법\n",
    "\n",
    "1. 변수와 식별자\n",
    "2. 연산자\n",
    "3. 자료형\n",
    "\n",
    "## 변수\n",
    "\n",
    "프로그래밍에서 \"=\" 뜻은 A = B 뜻은 B라는 값을 A에 할당한다 의미.\n",
    "따라서 \" = \" 는 \"할당연산자\" 라고 불린다.\n",
    "\n",
    "변수란 데이터를 저장하기 위해서 사용.\n",
    "복잡한 값을 쉽게 사용 가능.\n",
    "동일 변수에 다른 데이터를 언제든 할당할 수 있음.\n",
    "\n",
    "\n",
    "<변수를 사용하는 이유>\n",
    "- 코드의 가독성 증가\n",
    "- 숫자를 직접 적지 않고, 의미 단위로 작성 가능\n",
    "- 코드 수정 용이\n",
    "\n",
    "## 식별자(변수의 이름)\n",
    "- 어떻게 변수의 이름을 정할 것인가? 변수이름은 어떤 것을 나타내는지 모두가 알 수 있도록 명확해야함.\n",
    "\n",
    "1. **누구나 읽기 쉽고 이해하기 쉬운 변수명이 최고**\n",
    "2. <변수 이름 규칙>\n",
    "\n",
    "- 식별자의 이름은 영문 *알파벳, 언더스코어 _. 숫자*로 구성\n",
    "- *첫 글자에 숫자 올 수 없음*\n",
    "- 길이 제한이 없고, 대소문자 구별\n",
    "- 내장 함수나 모듈 등의 이름은 사용하지 않는다.\n",
    "\n",
    "## 주석\n",
    "- 코드 실행에 영향을 미치지 않는 나만의 메모\n",
    "- 코드에 대한 쉬운 이해를 돕는다\n",
    "- 유지보수 용이\n",
    "- 협업 용이\n",
    "\n",
    "## 연산자\n",
    "- 기본적인 사칙연산 및 수식 계산\n",
    "\n",
    "## 자료형\n",
    "- [자료형이 필요한 이유]\n",
    "1. 자료형과 메모리\n",
    "\n",
    "    컴퓨터에서 프로그램을 시작했다 = 모든 코드를 LAM에 옮겼다와 같은 의미\n",
    "\n",
    "    ## 데이터 10을 컴퓨터가 기억하는 과정##\n",
    "    - 10을 저장할 공간을 메모리(램)에 만든다.\n",
    "         HDD or SSD보다 LAM이 훨씬 빠름\n",
    "         CPU에 비해서 HDD와 SSD는 느리기 떄문에 소통이 어려움. 그러므로 연산작업을 할 때 LAM영역을 이용함.\n",
    "    - 저장할 공간에 대한 주소를 할당받는다.\n",
    "    - 할당 받은 주소를 기억한다.(4021555423)\n",
    "    - 10이라는 데이터를 해당 주소로 찾아가서 저장한다.\n",
    "    - 이후에 10이 필요해지면 해당 주소로 가서 읽어온다.\n",
    "\n",
    "    여기서 불편한 점 : 주소를 기억하기 너무 어려움.(주소값은 개발자도 기억해야하기때문)\n",
    "    따라서 우리는 **변수**를 설정한다.\n",
    "    컴퓨터 내에서 변수와 기존 주소값과 매핑하는 과정이 자동적으로 이루어진다.\n",
    "    사실상 \" 변수 = 저장할 메모리의 주소값 \" 이다. \n",
    "    __\" 메모리의 주소를 기억하는 이름 = 변수 \"__\n",
    "\n",
    "    - 자료형(int, str)이란\n",
    "    메모리를 자동으로 할당받을 타일의 갯수를 정한 것이다.\n",
    "    ex) int는 메모리 1타일, str는 메모리 2타일 할당\n",
    "\n",
    "## **id(보고싶은변수) : 주소를 알 수 있음.**\n",
    "\n",
    "[진짜 주소(숫자값)를 알아야하는 이유]:\n",
    "*내가 가진 데이터를 다른 데이터와 비교하려면 진짜 메모리(주소)를 비교해야하기 때문에*\n",
    "\n",
    "중첩 따옴표 사용법\n",
    "-문자열 안에 작은따옴표를 사용하려면 전체를 큰 따옴표로 묶는다. \" ' \"\n",
    "-문자열 안에 큰 따옴표를 사용하려면 전체를 작은 따옴표로 묶는다. ' \" '\n",
    "\n",
    "''' 삼중 따옴표는 그 안에 입력된 형태 그대로 저장이된다.\n",
    "따라서 작은 따움표나 큰따옴표 표현 가능\n",
    "\n",
    "## 빌트인 함수를 변수로 바꾼다음 복원하는 방법\n",
    "\n",
    "import builtins\n",
    "print = builtins.print\n",
    "\n",
    "## None\n",
    "\n",
    "\n",
    "## boolean형 불린형\n",
    "\n",
    "- 결과는 True or False 값을 가짐\n",
    "- 비교 및 논리 연산에 활용\n",
    "- 조건문에 줄 사용하며 값을 비교할 때 사용\n",
    "\n",
    "# 논리연산자\n",
    "- AND : 둘다 해당되어야\n",
    "- OR : 적어도 하나는 해당되어야\n",
    "\n",
    "# 논리연산자의 단축평가\n",
    "# **시험에 나온다**\n",
    "or에서 첫번째값이 True면 True => 무조건 첫번째 값을 반환\n",
    "and에서 첫번째값이 false면 false => 무조건 첫번째 값을 반환\n",
    "\n",
    "# 컨테이너\n",
    "- 여러개의 값을 담을 수 있는 객체로, 서로다른 자료형을 저장할 수 있음\n",
    "- 분류\n",
    "    1. 순서가 있는 데이터 ordered\n",
    "    2. 순서가 없는 데이터 unordered\n",
    "- 순서가 있다(맨앞과 맨뒤에 의미가 있음) != 정렬되어있다(오름차순, 내림차순)\n",
    "\n",
    "# 튜플\n",
    "\n",
    "- 여러 개의 값을 순서가 잇는 구조로 저장하고 싶을 때\n",
    "- () 소괄호 사용, list는 가변인데 turple은 수정 불가능하다.\n",
    "- 시퀀스(순서가있는자료)로 인덱스로 접근 가능\n",
    "\n",
    "튜플 생성 주의사항\n",
    "- 단일항목의 경우\n",
    "    하나의 항목으로 구성도니 튜플은 생성 시 값 뒤에 쉼표를 붙여야함\n",
    "\n",
    "# range\n",
    "\n",
    "# 슬라이싱 연산자\n",
    "\n",
    "# 비시퀀스형 컨테이너\n",
    "\n",
    "1. 딕셔너리\n",
    "- key : value 값으로 이루어짐\n",
    "- key는 변경불가능한 데이터만 활용\n",
    "- value는 어떤 값도 상관없음.\n",
    "- list와 다르게 인덱스가 없다.\n",
    "- 키와 연결된 값으로 이루어짐. 키 = 상자의 이름 이라고 보면됨.\n",
    "- dict(a='apple', ~)\n",
    "- 값이 변하면 더 큰 범위로 바뀐다.\n",
    "\n",
    "2. set\n"
   ]
  },
  {
   "cell_type": "code",
   "execution_count": 12,
   "metadata": {},
   "outputs": [
    {
     "name": "stdout",
     "output_type": "stream",
     "text": [
      "20 10\n",
      "20 10\n"
     ]
    }
   ],
   "source": [
    "#실습문제\n",
    "# x값과 y값 바꿔서 나오게하기\n",
    "\n",
    "# 방법1\n",
    "\n",
    "x = 10\n",
    "y = 20\n",
    "\n",
    "x, y = y, x\n",
    "print(x, y)\n",
    "\n",
    "# 방법2 \n",
    "# 튜플, 임시 변수 활용하는것이 매우 중요하다\n",
    "a, b = 10, 20\n",
    "tmp = a # tmp = 10\n",
    "a = b # a = 20\n",
    "b = tmp # b = 10\n",
    "print(a, b)"
   ]
  },
  {
   "cell_type": "code",
   "execution_count": 13,
   "metadata": {},
   "outputs": [
    {
     "name": "stdout",
     "output_type": "stream",
     "text": [
      "8\n",
      "2\n",
      "15\n",
      "1.6666666666666667\n",
      "1\n",
      "2\n"
     ]
    }
   ],
   "source": [
    "i = 5\n",
    "j = 3\n",
    "\n",
    "print(i + j)\n",
    "print(i - j)\n",
    "print(i*j)\n",
    "print(i/j)\n",
    "print(i//j)\n",
    "print(i%j)"
   ]
  },
  {
   "cell_type": "code",
   "execution_count": 16,
   "metadata": {},
   "outputs": [
    {
     "name": "stdout",
     "output_type": "stream",
     "text": [
      "helloworld\n",
      "254\n"
     ]
    }
   ],
   "source": [
    "print(\"hello\" + \"world\")\n",
    "a = \"25\"\n",
    "b = \"4\"\n",
    "print(a + b)"
   ]
  },
  {
   "cell_type": "code",
   "execution_count": 18,
   "metadata": {},
   "outputs": [
    {
     "name": "stdout",
     "output_type": "stream",
     "text": [
      "False\n",
      "True\n",
      "True\n",
      "True\n",
      "False\n"
     ]
    }
   ],
   "source": [
    "# 비교 연산자 활용 예시\n",
    "# 문자를 비교할 때는 대소문자도 가아야 같은걸로 취급한다.\n",
    "\n",
    "print(3>6) #F\n",
    "print(3.0 == 3) #T\n",
    "print(3 >= 0 ) #T\n",
    "print(\"3\" != 3) #T\n",
    "print(\"Hi\" == \"hi\") #F"
   ]
  },
  {
   "cell_type": "code",
   "execution_count": 22,
   "metadata": {},
   "outputs": [
    {
     "name": "stdout",
     "output_type": "stream",
     "text": [
      "True\n",
      "False\n",
      "False\n",
      "===========\n",
      "False\n",
      "True\n",
      "False\n",
      "True\n"
     ]
    }
   ],
   "source": [
    "#논리 연산자 예시\n",
    "\n",
    "print( 3 == 3 and 4 == 4) #T\n",
    "print(4 == 3 and 4 == 4) #F\n",
    "print(4 == 4 and 4 == 3) #F\n",
    "\n",
    "# 구분선\n",
    "print(\"===========\")\n",
    "\n",
    "\n",
    "\n",
    "print(False and False)\n",
    "print(True or False)\n",
    "print(False and True)\n",
    "print(True or True)"
   ]
  },
  {
   "cell_type": "code",
   "execution_count": 25,
   "metadata": {},
   "outputs": [
    {
     "name": "stdout",
     "output_type": "stream",
     "text": [
      "3\n",
      "5\n"
     ]
    }
   ],
   "source": [
    "# list\n",
    "# list 인덱스는 0부터 센다.\n",
    "# 인덱스 범위 : 0 ~ (리스트길이 - 1)\n",
    "\n",
    "\n",
    "dust = [1, 2, 3, 4, 5]\n",
    "print(dust[2])\n",
    "\n",
    "# 음수 인덱스 -1은 뒤에서부터 센다.\n",
    "\n",
    "print(dust[-1])\n",
    "\n"
   ]
  },
  {
   "cell_type": "code",
   "execution_count": null,
   "metadata": {},
   "outputs": [],
   "source": [
    "#튜플\n",
    "\n",
    "#단일 항목\n",
    "a = (1,) # , 를 집어 넣는다.\n",
    "\n",
    "#복수 항목\n",
    "\n",
    "B = (1, 2, 3,) # 마지막에 , 집어 넣을 것!"
   ]
  },
  {
   "cell_type": "code",
   "execution_count": 29,
   "metadata": {},
   "outputs": [
    {
     "ename": "ValueError",
     "evalue": "invalid literal for int() with base 10: '3.5'",
     "output_type": "error",
     "traceback": [
      "\u001b[1;31m---------------------------------------------------------------------------\u001b[0m",
      "\u001b[1;31mValueError\u001b[0m                                Traceback (most recent call last)",
      "Cell \u001b[1;32mIn[29], line 2\u001b[0m\n\u001b[0;32m      1\u001b[0m \u001b[39m# 문자는 정수로 바꿀 수 없음\u001b[39;00m\n\u001b[1;32m----> 2\u001b[0m \u001b[39mint\u001b[39;49m(\u001b[39m\"\u001b[39;49m\u001b[39m3.5\u001b[39;49m\u001b[39m\"\u001b[39;49m)\n\u001b[0;32m      3\u001b[0m \u001b[39mint\u001b[39m(\u001b[39m\"\u001b[39m\u001b[39m10\u001b[39m\u001b[39m\"\u001b[39m)\n",
      "\u001b[1;31mValueError\u001b[0m: invalid literal for int() with base 10: '3.5'"
     ]
    }
   ],
   "source": [
    "# 오직 정수 형태만 int로 바꿀 수 있음\n",
    "\n",
    "int(\"ddd\") # 문자는 정수로 바꿀 수 없음\n",
    "int(\"3.5\") # 소수점도 정수로 바꿀 수 없음\n",
    "int(\"10\")"
   ]
  },
  {
   "cell_type": "code",
   "execution_count": 33,
   "metadata": {},
   "outputs": [
    {
     "name": "stdout",
     "output_type": "stream",
     "text": [
      "{'a': 'apple', 'b': 'banana', 'list': [1, 2, 3]}\n",
      "[1, 2, 3]\n"
     ]
    }
   ],
   "source": [
    "# 딕셔너리 생성법\n",
    "\n",
    "# 1.\n",
    "\n",
    "dict_a = {\"a\" : \"apple\", \"b\" : \"banana\", \"list\" : [1, 2, 3]}\n",
    "print(dict_a)\n",
    "print(dict_a['list'])"
   ]
  },
  {
   "cell_type": "code",
   "execution_count": 31,
   "metadata": {},
   "outputs": [
    {
     "name": "stdout",
     "output_type": "stream",
     "text": [
      "['a', 'b', 'c']\n"
     ]
    }
   ],
   "source": [
    "# 딕셔너리를 리스트화하면 키 값들만 리스트로 변환된다.\n",
    "\n",
    "my_dict = {\"a\" : \"AAA\", \"b\": \"BBB\", \"c\" : \"CCC\"}\n",
    "a = list(my_dict)\n",
    "\n",
    "print(a)\n"
   ]
  }
 ],
 "metadata": {
  "kernelspec": {
   "display_name": "Python 3",
   "language": "python",
   "name": "python3"
  },
  "language_info": {
   "codemirror_mode": {
    "name": "ipython",
    "version": 3
   },
   "file_extension": ".py",
   "mimetype": "text/x-python",
   "name": "python",
   "nbconvert_exporter": "python",
   "pygments_lexer": "ipython3",
   "version": "3.11.1"
  },
  "orig_nbformat": 4,
  "vscode": {
   "interpreter": {
    "hash": "a28b486d3d796f7b3332da4f2f6544d26413b46d73c8f9c0d089d5fd493f7556"
   }
  }
 },
 "nbformat": 4,
 "nbformat_minor": 2
}
