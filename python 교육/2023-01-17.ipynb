{
 "cells": [
  {
   "attachments": {},
   "cell_type": "markdown",
   "metadata": {},
   "source": [
    "# input()\n",
    "\n",
    "- 입력을 받는다\n",
    "- str() 문자열로 받는다.\n",
    "\n",
    "# 조건문\n",
    "\n",
    "- if 문에서 0은 false로 받고 0이 아닌 모든 숫자는 True로 받는다.\n",
    "- false 값 none, [], ()\n",
    "\n",
    "# 복수조건문\n",
    "\n",
    "- if가 false이면 그 다음의 elie문을 실행한다.\n",
    "- if 문은 위에서부터 순서대로 내려오기 때문에 범위는 내림차순으로 고려해야함.\n",
    "\n",
    "# 중첩조건문\n",
    "\n",
    "- if문 안에 if문 ??? 그러면 중첩조건문이랑 if문 조건안에서 and랑 같은 결과???\n",
    "- 첫 번째 조건도 True이고 그 안의 if문도 성립한다면.....\n",
    "- 형태 :\n",
    "if\n",
    "    if\n",
    "- 기행 유의할 것(들여쓰기 조심할 것)\n",
    "\n",
    "# 조건 표현식\n",
    "\n",
    "- 조건식을 한 줄로 쓸 수 잇음\n",
    "- 주의 : 실행속도는 똑같음, 아주 간단한 조건문일 때 효과적\n",
    "- 문법 : |true일 때 값| if 조건 else |false일 때 값|\n",
    "    value = num if num >= 0 else -num\n",
    "- 절대값을 저장하기 위한 코드\n",
    "- : 필요하지 않음\n",
    "\n",
    "# 반복문\n",
    "\n",
    "- for 문 : 내가 *반복의 횟수*를 알고 있을 때, 반복가능한 객체(list문)\n",
    "- for 변수명 in iterable => iterable에 있는 원소 하나하나를 변수명에 할당하는것, iterable의 원소 개수만큼 반복\n",
    "이 때 for 문안에서 변수명을 프린트하면 원소를 한줄씩 뽑아냄\n",
    "- 딕셔너리를 for문안에 넣으면 키 값만 출력됨, value값을 출력하려면 딕셔너리변수명[key]를 프린트한다.\n",
    "\n",
    "- whlie 문 : 반복 횟수는 모르지만 *특정 조건*을 알고 있을 때\n",
    "- 반복제어 : break(멈춘다, 반복문 끝), continue(특정조건이되면 다음조건수행, 다른 반복문을 수행하러감)\n",
    "\n",
    "- while True: 는 참인 경우 반복적으로 실행\n",
    "- while문을 작성할 때는 종료조건이 반드시 필요\n",
    "\n",
    "- 복합 연산자\n",
    "\n",
    "딕셔너리 순회\n",
    "- 딕셔너리명.key => key로 구성된 결과\n",
    "- 딕셔너리명.value => value로 구성된 결과\n",
    "- 딕셔너리명.item() => (key, value)의 튜플로 구성된 결과\n",
    "\n",
    "enumerate 순회\n",
    "- 인덱스와 객체를 쌍으로 담은(index, value) 형태의 튜플로 구성된 열거 객체 반환\n",
    "- enumerate(변수명, start = 1) => index를 1부터 시작\n",
    "\n",
    "# List comprehension\n",
    "\n",
    "- 미리 특정한 값을 가진 리스트를 생성하는 법\n",
    "- 기본형 : [code for 변수 in iterable] => iterable에서 원소하나를 code에 돌려서 나온값 산출\n",
    "            [code for 변수 in iterable if조건문]은 찾아볼 것\n",
    "        딕셔너리일 때 {key : value for 변수 in iterable}\n",
    "\n",
    "변수명.append() : 리스트에 추가하기\n",
    "\n",
    "\n",
    "# 반복문 제어\n",
    "\n",
    "- break : 반복문 종료\n",
    "- continue : continue 이후의 코드 블록은 수행하지 않고 다음 반복을 수행\n",
    "- for - else : for문이 끝까지 반복문을 실행한 이후에 else문 실행, break 경우 else문 실행 x\n",
    "- pass : 아무것도 하지않음(문법적으로 필요하지만, 할일이없을때)\n"
   ]
  },
  {
   "cell_type": "code",
   "execution_count": null,
   "metadata": {},
   "outputs": [],
   "source": [
    "# while문 예시\n",
    "\n",
    "a = 0\n",
    "while a < 5:\n",
    "    print(a)\n",
    "    a += 1\n",
    "    \n",
    "# while문이 끝날 떄 출력되는 것\n",
    "print(\"끝\")"
   ]
  },
  {
   "cell_type": "code",
   "execution_count": 1,
   "metadata": {},
   "outputs": [
    {
     "name": "stdout",
     "output_type": "stream",
     "text": [
      "1\n",
      "3\n",
      "5\n"
     ]
    }
   ],
   "source": [
    "# continue\n",
    "\n",
    "for i in range(6):\n",
    "    if i % 2 == 0:\n",
    "        continue\n",
    "    print(i)"
   ]
  }
 ],
 "metadata": {
  "kernelspec": {
   "display_name": "Python 3",
   "language": "python",
   "name": "python3"
  },
  "language_info": {
   "codemirror_mode": {
    "name": "ipython",
    "version": 3
   },
   "file_extension": ".py",
   "mimetype": "text/x-python",
   "name": "python",
   "nbconvert_exporter": "python",
   "pygments_lexer": "ipython3",
   "version": "3.11.1 (tags/v3.11.1:a7a450f, Dec  6 2022, 19:58:39) [MSC v.1934 64 bit (AMD64)]"
  },
  "orig_nbformat": 4,
  "vscode": {
   "interpreter": {
    "hash": "a28b486d3d796f7b3332da4f2f6544d26413b46d73c8f9c0d089d5fd493f7556"
   }
  }
 },
 "nbformat": 4,
 "nbformat_minor": 2
}
